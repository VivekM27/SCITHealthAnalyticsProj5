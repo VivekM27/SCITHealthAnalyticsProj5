{
 "cells": [
  {
   "cell_type": "markdown",
   "id": "42f4cf0b",
   "metadata": {},
   "source": [
    "##### Custom Function definitions"
   ]
  },
  {
   "cell_type": "code",
   "execution_count": 1,
   "id": "38b8e0d5",
   "metadata": {},
   "outputs": [],
   "source": [
    "# For drawing a line of type '=' (i.e. =============) between observations when required\n",
    "def lineDistributer(ch = '=', num = 127):\n",
    "    print(\"\\n\" + ch * num + \"\\n\")"
   ]
  },
  {
   "cell_type": "code",
   "execution_count": 2,
   "id": "bf98490e",
   "metadata": {},
   "outputs": [],
   "source": [
    "# To remove columns from Data\n",
    "def removeCols(data, list):\n",
    "    for i in list:\n",
    "        data.pop(i)\n",
    "    return data"
   ]
  },
  {
   "cell_type": "code",
   "execution_count": 3,
   "id": "c0fc953b",
   "metadata": {},
   "outputs": [],
   "source": [
    "# For Making copy and creating a dataframe\n",
    "def copyDF(val, val2, str = 'Data Accuracy'):\n",
    "    result = val.copy()\n",
    "    result.update(val2)\n",
    "    return pd.DataFrame(list(result.items()), columns = ['Model', str])"
   ]
  },
  {
   "cell_type": "markdown",
   "id": "c181225a",
   "metadata": {},
   "source": [
    "##### Custom Varibales to store data"
   ]
  },
  {
   "cell_type": "code",
   "execution_count": 4,
   "id": "6d6940f3",
   "metadata": {},
   "outputs": [],
   "source": [
    "# Dictionary to store classifier percentages\n",
    "train_percent = dict()\n",
    "test_percent = dict()\n",
    "train_percent2 = dict()\n",
    "test_percent2 = dict()\n",
    "baseModels = dict()\n",
    "boostModels = dict()\n",
    "k_fold_percent = dict()\n",
    "\n",
    "# List to store classifier Type\n",
    "ModelType = list()"
   ]
  },
  {
   "cell_type": "markdown",
   "id": "3828d458",
   "metadata": {},
   "source": [
    "##### Libraries"
   ]
  },
  {
   "cell_type": "code",
   "execution_count": 5,
   "id": "d4fa731a",
   "metadata": {},
   "outputs": [],
   "source": [
    "# Libraries\n",
    "\n",
    "import warnings as w\n",
    "# No warnings will be shown in Out[#]:\n",
    "w.simplefilter(\"ignore\")\n",
    "\n",
    "# Data Pre-Processing\n",
    "import pandas as pd\n",
    "import numpy as np\n",
    "from sklearn.impute import SimpleImputer\n",
    "\n",
    "# Visualization Plots\n",
    "import seaborn as sns\n",
    "import matplotlib.pyplot as plt\n",
    "\n",
    "# For balancing data\n",
    "from sklearn.utils import resample\n",
    "\n",
    "# Getting data ready for models\n",
    "from sklearn.preprocessing import MinMaxScaler\n",
    "from sklearn.model_selection import train_test_split\n",
    "\n",
    "# Classification\n",
    "from sklearn.datasets import make_classification\n",
    "\n",
    "# Models\n",
    "# 1. Naive Bayes------------------------------------\n",
    "from sklearn.naive_bayes import GaussianNB\n",
    "# 2. Logistic Regression----------------------------\n",
    "from sklearn.linear_model import LogisticRegression\n",
    "# 3. Decision Tree ---------------------------------\n",
    "from sklearn import tree\n",
    "from sklearn.tree import DecisionTreeClassifier\n",
    "# 4. Support Vector Machines(SVM)-------------------\n",
    "from sklearn.svm import SVC\n",
    "\n",
    "# Enhancement\n",
    "# 1. Random Forest----------------------------------\n",
    "from sklearn.ensemble import RandomForestClassifier\n",
    "# 2. XG Boost\n",
    "#!pip install xgboost\n",
    "from xgboost import XGBClassifier\n",
    "# 3. Gradient Boosting------------------------------\n",
    "from sklearn.ensemble import GradientBoostingClassifier\n",
    "# 4. ADA Boost\n",
    "from sklearn.ensemble import AdaBoostClassifier\n",
    "# 5. Bagging Classifier-----------------------------\n",
    "from sklearn.ensemble import BaggingClassifier\n",
    "\n",
    "# To prevent over fitting\n",
    "from sklearn.model_selection import cross_val_score\n",
    "\n",
    "# For checking best parameter we will use grid search cross validation\n",
    "from sklearn.model_selection import GridSearchCV\n",
    "\n",
    "# Checking Accuracy\n",
    "from sklearn.metrics import accuracy_score\n",
    "from sklearn.metrics import confusion_matrix, accuracy_score"
   ]
  },
  {
   "cell_type": "code",
   "execution_count": 42,
   "id": "c0e83a53",
   "metadata": {
    "scrolled": true
   },
   "outputs": [],
   "source": [
    "def modelValues(classifier = DecisionTreeClassifier(), model_name = 'model', X = [1], y = [1], model_type = 'base'):\n",
    "    classifier.fit(X_train, y_train)\n",
    "    baseModels[model_name] = classifier\n",
    "    \n",
    "    # Predicting one record to check the model\n",
    "    print('Predicting one record to check the', model_name, 'model') \n",
    "    print('Desired Prediction = 0, Actual Prediction =', \n",
    "          classifier.predict(mms.transform([[1., 0., 0., 1., 1., 0., 1., 0., 0., 0., 0.00527704, 1., 0.1, 0., 0., 0., 0., 0.]], )))\n",
    "\n",
    "    if model_type.lower() == \"base\":\n",
    "        # Checking Accuracy of train data----------------------------------------------\n",
    "        train_pred = classifier.predict(X_train)\n",
    "        train_percent[model_name] = round(accuracy_score(y_train, train_pred) * 100, 3)\n",
    "        print(\"Train -> {:.3f}%\".format(train_percent[model_name]))\n",
    "        # Checking Accuracy on test data----------------------------------------------\n",
    "        test_pred = classifier.predict(X_test)\n",
    "        test_percent[model_name] = round(accuracy_score(y_test, test_pred) * 100, 3)\n",
    "        print(\"Test -> {:.3f}%\".format(test_percent[model_name]))\n",
    "\n",
    "    elif model_type.lower() == \"boost\":\n",
    "        # Checking Accuracy of train data----------------------------------------------\n",
    "        train_pred = classifier.predict(X_train)\n",
    "        train_percent2[model_name] = round(accuracy_score(y_train, train_pred) * 100, 3)\n",
    "        print(\"Train -> {:.3f}%\".format(train_percent2[model_name]))\n",
    "        # Checking Accuracy on test data------------------------------------------------\n",
    "        test_pred = classifier.predict(X_test)\n",
    "        test_percent2[model_name] = round(accuracy_score(y_test, test_pred) * 100, 3)\n",
    "        print(\"Test -> {:.3f}%\".format(test_percent2[model_name]))\n",
    "    \n",
    "    # Checking Accuracy after K-Cross Validation to deal with Overfitting\n",
    "    val = cross_val_score(estimator = classifier, X = X_train, y = y_train, cv = 10)\n",
    "    k_fold_percent[model_name] = round((val.mean()) * 100, 3)\n",
    "    print(\"K-Fold Cross Validation -> {:.3f}%\".format(k_fold_percent[model_name]))\n",
    "    lineDistributer('*', 30)\n",
    "    \n",
    "    # Confusion Matrix\n",
    "    y_pred = classifier.predict(X_test)\n",
    "    print(confusion_matrix(y_test, y_pred))"
   ]
  },
  {
   "cell_type": "markdown",
   "id": "d0495744",
   "metadata": {},
   "source": [
    "---"
   ]
  },
  {
   "cell_type": "markdown",
   "id": "cf7caada",
   "metadata": {},
   "source": [
    "# 1. Identify a dataset from online resources available."
   ]
  },
  {
   "cell_type": "code",
   "execution_count": 7,
   "id": "f3657334",
   "metadata": {},
   "outputs": [],
   "source": [
    "# Import Data\n",
    "Data = pd.read_csv(\"../Dataset/Autism-Child-Data.csv\")"
   ]
  },
  {
   "cell_type": "code",
   "execution_count": 8,
   "id": "dfe4bde1",
   "metadata": {},
   "outputs": [
    {
     "data": {
      "text/html": [
       "<div>\n",
       "<style scoped>\n",
       "    .dataframe tbody tr th:only-of-type {\n",
       "        vertical-align: middle;\n",
       "    }\n",
       "\n",
       "    .dataframe tbody tr th {\n",
       "        vertical-align: top;\n",
       "    }\n",
       "\n",
       "    .dataframe thead th {\n",
       "        text-align: right;\n",
       "    }\n",
       "</style>\n",
       "<table border=\"1\" class=\"dataframe\">\n",
       "  <thead>\n",
       "    <tr style=\"text-align: right;\">\n",
       "      <th></th>\n",
       "      <th>A1_Score</th>\n",
       "      <th>A2_Score</th>\n",
       "      <th>A3_Score</th>\n",
       "      <th>A4_Score</th>\n",
       "      <th>A5_Score</th>\n",
       "      <th>A6_Score</th>\n",
       "      <th>A7_Score</th>\n",
       "      <th>A8_Score</th>\n",
       "      <th>A9_Score</th>\n",
       "      <th>A10_Score</th>\n",
       "      <th>...</th>\n",
       "      <th>ethnicity</th>\n",
       "      <th>jundice</th>\n",
       "      <th>austim</th>\n",
       "      <th>contry_of_res</th>\n",
       "      <th>used_app_before</th>\n",
       "      <th>result</th>\n",
       "      <th>age_desc</th>\n",
       "      <th>Age Grp</th>\n",
       "      <th>relation</th>\n",
       "      <th>Class/ASD</th>\n",
       "    </tr>\n",
       "  </thead>\n",
       "  <tbody>\n",
       "    <tr>\n",
       "      <th>0</th>\n",
       "      <td>1</td>\n",
       "      <td>1</td>\n",
       "      <td>0</td>\n",
       "      <td>0</td>\n",
       "      <td>1</td>\n",
       "      <td>1</td>\n",
       "      <td>0</td>\n",
       "      <td>1</td>\n",
       "      <td>0</td>\n",
       "      <td>0</td>\n",
       "      <td>...</td>\n",
       "      <td>Others</td>\n",
       "      <td>no</td>\n",
       "      <td>no</td>\n",
       "      <td>Jordan</td>\n",
       "      <td>no</td>\n",
       "      <td>5</td>\n",
       "      <td>'4-11 years'</td>\n",
       "      <td>1</td>\n",
       "      <td>Parent</td>\n",
       "      <td>NO</td>\n",
       "    </tr>\n",
       "    <tr>\n",
       "      <th>1</th>\n",
       "      <td>1</td>\n",
       "      <td>1</td>\n",
       "      <td>0</td>\n",
       "      <td>0</td>\n",
       "      <td>1</td>\n",
       "      <td>1</td>\n",
       "      <td>0</td>\n",
       "      <td>1</td>\n",
       "      <td>0</td>\n",
       "      <td>0</td>\n",
       "      <td>...</td>\n",
       "      <td>'Middle Eastern '</td>\n",
       "      <td>no</td>\n",
       "      <td>no</td>\n",
       "      <td>Jordan</td>\n",
       "      <td>no</td>\n",
       "      <td>5</td>\n",
       "      <td>'4-11 years'</td>\n",
       "      <td>1</td>\n",
       "      <td>Parent</td>\n",
       "      <td>NO</td>\n",
       "    </tr>\n",
       "    <tr>\n",
       "      <th>2</th>\n",
       "      <td>1</td>\n",
       "      <td>1</td>\n",
       "      <td>0</td>\n",
       "      <td>0</td>\n",
       "      <td>0</td>\n",
       "      <td>1</td>\n",
       "      <td>1</td>\n",
       "      <td>1</td>\n",
       "      <td>0</td>\n",
       "      <td>0</td>\n",
       "      <td>...</td>\n",
       "      <td>?</td>\n",
       "      <td>no</td>\n",
       "      <td>no</td>\n",
       "      <td>Jordan</td>\n",
       "      <td>yes</td>\n",
       "      <td>5</td>\n",
       "      <td>'4-11 years'</td>\n",
       "      <td>1</td>\n",
       "      <td>?</td>\n",
       "      <td>NO</td>\n",
       "    </tr>\n",
       "    <tr>\n",
       "      <th>3</th>\n",
       "      <td>0</td>\n",
       "      <td>1</td>\n",
       "      <td>0</td>\n",
       "      <td>0</td>\n",
       "      <td>1</td>\n",
       "      <td>1</td>\n",
       "      <td>0</td>\n",
       "      <td>0</td>\n",
       "      <td>0</td>\n",
       "      <td>1</td>\n",
       "      <td>...</td>\n",
       "      <td>?</td>\n",
       "      <td>yes</td>\n",
       "      <td>no</td>\n",
       "      <td>Jordan</td>\n",
       "      <td>no</td>\n",
       "      <td>4</td>\n",
       "      <td>'4-11 years'</td>\n",
       "      <td>1</td>\n",
       "      <td>?</td>\n",
       "      <td>NO</td>\n",
       "    </tr>\n",
       "    <tr>\n",
       "      <th>4</th>\n",
       "      <td>1</td>\n",
       "      <td>1</td>\n",
       "      <td>1</td>\n",
       "      <td>1</td>\n",
       "      <td>1</td>\n",
       "      <td>1</td>\n",
       "      <td>1</td>\n",
       "      <td>1</td>\n",
       "      <td>1</td>\n",
       "      <td>1</td>\n",
       "      <td>...</td>\n",
       "      <td>Others</td>\n",
       "      <td>yes</td>\n",
       "      <td>no</td>\n",
       "      <td>'United States'</td>\n",
       "      <td>no</td>\n",
       "      <td>10</td>\n",
       "      <td>'4-11 years'</td>\n",
       "      <td>1</td>\n",
       "      <td>Parent</td>\n",
       "      <td>YES</td>\n",
       "    </tr>\n",
       "    <tr>\n",
       "      <th>...</th>\n",
       "      <td>...</td>\n",
       "      <td>...</td>\n",
       "      <td>...</td>\n",
       "      <td>...</td>\n",
       "      <td>...</td>\n",
       "      <td>...</td>\n",
       "      <td>...</td>\n",
       "      <td>...</td>\n",
       "      <td>...</td>\n",
       "      <td>...</td>\n",
       "      <td>...</td>\n",
       "      <td>...</td>\n",
       "      <td>...</td>\n",
       "      <td>...</td>\n",
       "      <td>...</td>\n",
       "      <td>...</td>\n",
       "      <td>...</td>\n",
       "      <td>...</td>\n",
       "      <td>...</td>\n",
       "      <td>...</td>\n",
       "      <td>...</td>\n",
       "    </tr>\n",
       "    <tr>\n",
       "      <th>1095</th>\n",
       "      <td>0</td>\n",
       "      <td>1</td>\n",
       "      <td>0</td>\n",
       "      <td>1</td>\n",
       "      <td>1</td>\n",
       "      <td>0</td>\n",
       "      <td>1</td>\n",
       "      <td>1</td>\n",
       "      <td>1</td>\n",
       "      <td>1</td>\n",
       "      <td>...</td>\n",
       "      <td>White-European</td>\n",
       "      <td>no</td>\n",
       "      <td>no</td>\n",
       "      <td>Russia</td>\n",
       "      <td>no</td>\n",
       "      <td>7</td>\n",
       "      <td>'18 and more'</td>\n",
       "      <td>3</td>\n",
       "      <td>Self</td>\n",
       "      <td>YES</td>\n",
       "    </tr>\n",
       "    <tr>\n",
       "      <th>1096</th>\n",
       "      <td>1</td>\n",
       "      <td>0</td>\n",
       "      <td>0</td>\n",
       "      <td>0</td>\n",
       "      <td>0</td>\n",
       "      <td>0</td>\n",
       "      <td>0</td>\n",
       "      <td>1</td>\n",
       "      <td>0</td>\n",
       "      <td>1</td>\n",
       "      <td>...</td>\n",
       "      <td>Hispanic</td>\n",
       "      <td>no</td>\n",
       "      <td>no</td>\n",
       "      <td>Mexico</td>\n",
       "      <td>no</td>\n",
       "      <td>3</td>\n",
       "      <td>'18 and more'</td>\n",
       "      <td>3</td>\n",
       "      <td>Parent</td>\n",
       "      <td>NO</td>\n",
       "    </tr>\n",
       "    <tr>\n",
       "      <th>1097</th>\n",
       "      <td>1</td>\n",
       "      <td>0</td>\n",
       "      <td>1</td>\n",
       "      <td>1</td>\n",
       "      <td>1</td>\n",
       "      <td>0</td>\n",
       "      <td>1</td>\n",
       "      <td>1</td>\n",
       "      <td>0</td>\n",
       "      <td>1</td>\n",
       "      <td>...</td>\n",
       "      <td>?</td>\n",
       "      <td>no</td>\n",
       "      <td>no</td>\n",
       "      <td>Russia</td>\n",
       "      <td>no</td>\n",
       "      <td>7</td>\n",
       "      <td>'18 and more'</td>\n",
       "      <td>3</td>\n",
       "      <td>?</td>\n",
       "      <td>YES</td>\n",
       "    </tr>\n",
       "    <tr>\n",
       "      <th>1098</th>\n",
       "      <td>1</td>\n",
       "      <td>0</td>\n",
       "      <td>0</td>\n",
       "      <td>1</td>\n",
       "      <td>1</td>\n",
       "      <td>0</td>\n",
       "      <td>1</td>\n",
       "      <td>0</td>\n",
       "      <td>1</td>\n",
       "      <td>1</td>\n",
       "      <td>...</td>\n",
       "      <td>'South Asian'</td>\n",
       "      <td>no</td>\n",
       "      <td>no</td>\n",
       "      <td>Pakistan</td>\n",
       "      <td>no</td>\n",
       "      <td>6</td>\n",
       "      <td>'18 and more'</td>\n",
       "      <td>3</td>\n",
       "      <td>Self</td>\n",
       "      <td>NO</td>\n",
       "    </tr>\n",
       "    <tr>\n",
       "      <th>1099</th>\n",
       "      <td>1</td>\n",
       "      <td>0</td>\n",
       "      <td>1</td>\n",
       "      <td>1</td>\n",
       "      <td>1</td>\n",
       "      <td>0</td>\n",
       "      <td>1</td>\n",
       "      <td>1</td>\n",
       "      <td>1</td>\n",
       "      <td>1</td>\n",
       "      <td>...</td>\n",
       "      <td>White-European</td>\n",
       "      <td>no</td>\n",
       "      <td>no</td>\n",
       "      <td>Cyprus</td>\n",
       "      <td>no</td>\n",
       "      <td>8</td>\n",
       "      <td>'18 and more'</td>\n",
       "      <td>3</td>\n",
       "      <td>Self</td>\n",
       "      <td>YES</td>\n",
       "    </tr>\n",
       "  </tbody>\n",
       "</table>\n",
       "<p>1100 rows × 22 columns</p>\n",
       "</div>"
      ],
      "text/plain": [
       "      A1_Score  A2_Score  A3_Score  A4_Score  A5_Score  A6_Score  A7_Score  \\\n",
       "0            1         1         0         0         1         1         0   \n",
       "1            1         1         0         0         1         1         0   \n",
       "2            1         1         0         0         0         1         1   \n",
       "3            0         1         0         0         1         1         0   \n",
       "4            1         1         1         1         1         1         1   \n",
       "...        ...       ...       ...       ...       ...       ...       ...   \n",
       "1095         0         1         0         1         1         0         1   \n",
       "1096         1         0         0         0         0         0         0   \n",
       "1097         1         0         1         1         1         0         1   \n",
       "1098         1         0         0         1         1         0         1   \n",
       "1099         1         0         1         1         1         0         1   \n",
       "\n",
       "      A8_Score  A9_Score  A10_Score  ...          ethnicity jundice austim  \\\n",
       "0            1         0          0  ...             Others      no     no   \n",
       "1            1         0          0  ...  'Middle Eastern '      no     no   \n",
       "2            1         0          0  ...                  ?      no     no   \n",
       "3            0         0          1  ...                  ?     yes     no   \n",
       "4            1         1          1  ...             Others     yes     no   \n",
       "...        ...       ...        ...  ...                ...     ...    ...   \n",
       "1095         1         1          1  ...     White-European      no     no   \n",
       "1096         1         0          1  ...           Hispanic      no     no   \n",
       "1097         1         0          1  ...                  ?      no     no   \n",
       "1098         0         1          1  ...      'South Asian'      no     no   \n",
       "1099         1         1          1  ...     White-European      no     no   \n",
       "\n",
       "        contry_of_res used_app_before result       age_desc  Age Grp relation  \\\n",
       "0              Jordan              no      5   '4-11 years'        1   Parent   \n",
       "1              Jordan              no      5   '4-11 years'        1   Parent   \n",
       "2              Jordan             yes      5   '4-11 years'        1        ?   \n",
       "3              Jordan              no      4   '4-11 years'        1        ?   \n",
       "4     'United States'              no     10   '4-11 years'        1   Parent   \n",
       "...               ...             ...    ...            ...      ...      ...   \n",
       "1095           Russia              no      7  '18 and more'        3     Self   \n",
       "1096           Mexico              no      3  '18 and more'        3   Parent   \n",
       "1097           Russia              no      7  '18 and more'        3        ?   \n",
       "1098         Pakistan              no      6  '18 and more'        3     Self   \n",
       "1099           Cyprus              no      8  '18 and more'        3     Self   \n",
       "\n",
       "      Class/ASD  \n",
       "0            NO  \n",
       "1            NO  \n",
       "2            NO  \n",
       "3            NO  \n",
       "4           YES  \n",
       "...         ...  \n",
       "1095        YES  \n",
       "1096         NO  \n",
       "1097        YES  \n",
       "1098         NO  \n",
       "1099        YES  \n",
       "\n",
       "[1100 rows x 22 columns]"
      ]
     },
     "execution_count": 8,
     "metadata": {},
     "output_type": "execute_result"
    }
   ],
   "source": [
    "Data"
   ]
  },
  {
   "attachments": {},
   "cell_type": "markdown",
   "id": "71848d33",
   "metadata": {},
   "source": [
    "### Data Details\n",
    "Features - 22\\\n",
    "Target feature - 1 named Class/ASD"
   ]
  },
  {
   "cell_type": "markdown",
   "id": "a8586f06",
   "metadata": {},
   "source": [
    "---"
   ]
  },
  {
   "cell_type": "markdown",
   "id": "93120ce4",
   "metadata": {},
   "source": [
    "# 2. Analysis of data and preparation-visualization/cleaning"
   ]
  },
  {
   "cell_type": "code",
   "execution_count": 9,
   "id": "72787cd6",
   "metadata": {},
   "outputs": [
    {
     "name": "stdout",
     "output_type": "stream",
     "text": [
      "A1_Score           0\n",
      "A2_Score           0\n",
      "A3_Score           0\n",
      "A4_Score           0\n",
      "A5_Score           0\n",
      "A6_Score           0\n",
      "A7_Score           0\n",
      "A8_Score           0\n",
      "A9_Score           0\n",
      "A10_Score          0\n",
      "age                0\n",
      "gender             0\n",
      "ethnicity          0\n",
      "jundice            0\n",
      "austim             0\n",
      "contry_of_res      0\n",
      "used_app_before    0\n",
      "result             0\n",
      "age_desc           0\n",
      "Age Grp            0\n",
      "relation           0\n",
      "Class/ASD          0\n",
      "dtype: int64\n",
      "(1100, 22)\n",
      "\n"
     ]
    }
   ],
   "source": [
    "# Dealing with Missing Values\n",
    "\n",
    "# Finding count of missing value in each column\n",
    "print(Data.isnull().sum())\n",
    "\n",
    "# Checking Dimesnions of dataset \n",
    "#       - (rows, columns)\n",
    "print(Data.shape, end = \"\\n\\n\")"
   ]
  },
  {
   "attachments": {},
   "cell_type": "markdown",
   "id": "07ee3e19",
   "metadata": {},
   "source": [
    "##### Dealing with missing values - Not Required - For now"
   ]
  },
  {
   "cell_type": "code",
   "execution_count": 10,
   "id": "b9d48c27",
   "metadata": {},
   "outputs": [],
   "source": [
    "# # Numerical values\n",
    "# #       - Using scikit-learn's imputer method to replace missing values with mean\n",
    "# imputer = SimpleImputer(missing_values = np.nan, strategy = 'mean')\n",
    "# imputer.fit(Data[[\"Duration to accept offer\", \"Pecent hike expected in CTC\", \n",
    "#                   \"Percent hike offered in CTC\", \"Percent difference CTC\"]])\n",
    "# Data[[\"Duration to accept offer\", \"Pecent hike expected in CTC\", \"Percent hike offered in CTC\", \n",
    "#       \"Percent difference CTC\"]] = imputer.transform(Data[[\"Duration to accept offer\", \"Pecent hike expected in CTC\", \n",
    "#                                                            \"Percent hike offered in CTC\", \"Percent difference CTC\"]])\n",
    "\n",
    "# # Finding count of missing value in each column\n",
    "# print(Data.isnull().sum())\n",
    "\n",
    "\n",
    "# # Categorical values\n",
    "# #       - Using scikit-learn's imputer method to replace missing values with mean\n",
    "# imputer = SimpleImputer(missing_values = np.nan, strategy = 'most_frequent')\n",
    "# imputer.fit(Data[['age', 'gender', 'ethnicity', 'jundice', 'austim', 'contry_of_res', 'used_app_before', 'age_desc', 'relation', 'Class/ASD']])\n",
    "# Data[['age', 'gender', 'ethnicity', 'jundice', 'austim', 'contry_of_res', 'used_app_before', 'age_desc', 'relation', 'Class/ASD']] = imputer.transform(Data[['age', 'gender', 'ethnicity', 'jundice', 'austim', 'contry_of_res', 'used_app_before', 'age_desc', 'relation', 'Class/ASD']])\n",
    "\n",
    "# # Finding count of missing value in each column\n",
    "# print(Data.isnull().sum())"
   ]
  },
  {
   "cell_type": "markdown",
   "id": "9b73d568",
   "metadata": {},
   "source": [
    "##### Converting object to category type"
   ]
  },
  {
   "cell_type": "code",
   "execution_count": 11,
   "id": "9f16a1e5",
   "metadata": {},
   "outputs": [
    {
     "name": "stdout",
     "output_type": "stream",
     "text": [
      "<class 'pandas.core.frame.DataFrame'>\n",
      "RangeIndex: 1100 entries, 0 to 1099\n",
      "Data columns (total 22 columns):\n",
      " #   Column           Non-Null Count  Dtype \n",
      "---  ------           --------------  ----- \n",
      " 0   A1_Score         1100 non-null   int64 \n",
      " 1   A2_Score         1100 non-null   int64 \n",
      " 2   A3_Score         1100 non-null   int64 \n",
      " 3   A4_Score         1100 non-null   int64 \n",
      " 4   A5_Score         1100 non-null   int64 \n",
      " 5   A6_Score         1100 non-null   int64 \n",
      " 6   A7_Score         1100 non-null   int64 \n",
      " 7   A8_Score         1100 non-null   int64 \n",
      " 8   A9_Score         1100 non-null   int64 \n",
      " 9   A10_Score        1100 non-null   int64 \n",
      " 10  age              1100 non-null   object\n",
      " 11  gender           1100 non-null   object\n",
      " 12  ethnicity        1100 non-null   object\n",
      " 13  jundice          1100 non-null   object\n",
      " 14  austim           1100 non-null   object\n",
      " 15  contry_of_res    1100 non-null   object\n",
      " 16  used_app_before  1100 non-null   object\n",
      " 17  result           1100 non-null   int64 \n",
      " 18  age_desc         1100 non-null   object\n",
      " 19  Age Grp          1100 non-null   int64 \n",
      " 20  relation         1100 non-null   object\n",
      " 21  Class/ASD        1100 non-null   object\n",
      "dtypes: int64(12), object(10)\n",
      "memory usage: 189.2+ KB\n"
     ]
    }
   ],
   "source": [
    "# Type of columns\n",
    "Data.info()"
   ]
  },
  {
   "attachments": {},
   "cell_type": "markdown",
   "id": "1444419e",
   "metadata": {},
   "source": [
    "##### Dividing into 2"
   ]
  },
  {
   "cell_type": "code",
   "execution_count": 12,
   "id": "c880b51e",
   "metadata": {},
   "outputs": [
    {
     "name": "stdout",
     "output_type": "stream",
     "text": [
      "<class 'pandas.core.frame.DataFrame'>\n",
      "RangeIndex: 1100 entries, 0 to 1099\n",
      "Data columns (total 12 columns):\n",
      " #   Column     Non-Null Count  Dtype\n",
      "---  ------     --------------  -----\n",
      " 0   A1_Score   1100 non-null   int64\n",
      " 1   A2_Score   1100 non-null   int64\n",
      " 2   A3_Score   1100 non-null   int64\n",
      " 3   A4_Score   1100 non-null   int64\n",
      " 4   A5_Score   1100 non-null   int64\n",
      " 5   A6_Score   1100 non-null   int64\n",
      " 6   A7_Score   1100 non-null   int64\n",
      " 7   A8_Score   1100 non-null   int64\n",
      " 8   A9_Score   1100 non-null   int64\n",
      " 9   A10_Score  1100 non-null   int64\n",
      " 10  result     1100 non-null   int64\n",
      " 11  Age Grp    1100 non-null   int64\n",
      "dtypes: int64(12)\n",
      "memory usage: 103.2 KB\n",
      "<class 'pandas.core.frame.DataFrame'>\n",
      "RangeIndex: 1100 entries, 0 to 1099\n",
      "Data columns (total 10 columns):\n",
      " #   Column           Non-Null Count  Dtype \n",
      "---  ------           --------------  ----- \n",
      " 0   age              1100 non-null   object\n",
      " 1   gender           1100 non-null   object\n",
      " 2   ethnicity        1100 non-null   object\n",
      " 3   jundice          1100 non-null   object\n",
      " 4   austim           1100 non-null   object\n",
      " 5   contry_of_res    1100 non-null   object\n",
      " 6   used_app_before  1100 non-null   object\n",
      " 7   age_desc         1100 non-null   object\n",
      " 8   relation         1100 non-null   object\n",
      " 9   Class/ASD        1100 non-null   object\n",
      "dtypes: object(10)\n",
      "memory usage: 86.1+ KB\n"
     ]
    }
   ],
   "source": [
    "Data_int_type = Data.copy()\n",
    "Data_int_type = removeCols(Data_int_type, Data_int_type.columns[10:17])\n",
    "Data_int_type = removeCols(Data_int_type, Data_int_type.columns[11:12])\n",
    "Data_int_type = removeCols(Data_int_type, Data_int_type.columns[12:])\n",
    "Data_int_type.info()\n",
    "\n",
    "Data_string_type = Data.copy()\n",
    "Data_string_type = removeCols(Data_string_type, Data_string_type.columns[:10])\n",
    "Data_string_type = removeCols(Data_string_type, Data_string_type.columns[7:8])\n",
    "Data_string_type = removeCols(Data_string_type, Data_string_type.columns[8:9])\n",
    "Data_string_type.info()"
   ]
  },
  {
   "attachments": {},
   "cell_type": "markdown",
   "id": "cf8aad33",
   "metadata": {},
   "source": [
    "##### Converting to '?' with np.NaN"
   ]
  },
  {
   "cell_type": "code",
   "execution_count": 13,
   "id": "a896c38d",
   "metadata": {},
   "outputs": [
    {
     "name": "stdout",
     "output_type": "stream",
     "text": [
      "<class 'pandas.core.frame.DataFrame'>\n",
      "RangeIndex: 1100 entries, 0 to 1099\n",
      "Data columns (total 10 columns):\n",
      " #   Column           Non-Null Count  Dtype \n",
      "---  ------           --------------  ----- \n",
      " 0   age              1094 non-null   object\n",
      " 1   gender           1100 non-null   object\n",
      " 2   ethnicity        956 non-null    object\n",
      " 3   jundice          1100 non-null   object\n",
      " 4   austim           1100 non-null   object\n",
      " 5   contry_of_res    1100 non-null   object\n",
      " 6   used_app_before  1100 non-null   object\n",
      " 7   age_desc         1100 non-null   object\n",
      " 8   relation         956 non-null    object\n",
      " 9   Class/ASD        1100 non-null   object\n",
      "dtypes: object(10)\n",
      "memory usage: 86.1+ KB\n"
     ]
    },
    {
     "data": {
      "text/plain": [
       "Index(['age', 'gender', 'ethnicity', 'jundice', 'austim', 'contry_of_res',\n",
       "       'used_app_before', 'age_desc', 'relation', 'Class/ASD'],\n",
       "      dtype='object')"
      ]
     },
     "execution_count": 13,
     "metadata": {},
     "output_type": "execute_result"
    }
   ],
   "source": [
    "Data_string_type = Data_string_type.replace('?',np.nan)\n",
    "Data_string_type.info()\n",
    "Data_string_type.columns"
   ]
  },
  {
   "cell_type": "code",
   "execution_count": 14,
   "id": "bd590e6e",
   "metadata": {},
   "outputs": [
    {
     "name": "stdout",
     "output_type": "stream",
     "text": [
      "age                0\n",
      "gender             0\n",
      "ethnicity          0\n",
      "jundice            0\n",
      "austim             0\n",
      "contry_of_res      0\n",
      "used_app_before    0\n",
      "age_desc           0\n",
      "relation           0\n",
      "Class/ASD          0\n",
      "dtype: int64\n"
     ]
    }
   ],
   "source": [
    "# Categorical values\n",
    "#       - Using scikit-learn's imputer method to replace missing values with most_frequent\n",
    "imputer = SimpleImputer(missing_values = np.nan, strategy = 'most_frequent')\n",
    "imputer.fit(Data_string_type[['age', 'gender', 'ethnicity', 'jundice', 'austim', 'contry_of_res', 'used_app_before', 'age_desc', 'relation', 'Class/ASD']])\n",
    "Data_string_type[['age', 'gender', 'ethnicity', 'jundice', 'austim', 'contry_of_res', 'used_app_before', 'age_desc', 'relation', 'Class/ASD']] = imputer.transform(Data_string_type[['age', 'gender', 'ethnicity', 'jundice', 'austim', 'contry_of_res', 'used_app_before', 'age_desc', 'relation', 'Class/ASD']])\n",
    "\n",
    "# Finding count of missing value in each column\n",
    "print(Data_string_type.isnull().sum())"
   ]
  },
  {
   "attachments": {},
   "cell_type": "markdown",
   "id": "d143bb92",
   "metadata": {},
   "source": [
    "##### Converting to numeral values"
   ]
  },
  {
   "cell_type": "code",
   "execution_count": 15,
   "id": "e03541af",
   "metadata": {},
   "outputs": [
    {
     "data": {
      "text/plain": [
       "Index(['age', 'gender', 'ethnicity', 'jundice', 'austim', 'contry_of_res',\n",
       "       'used_app_before', 'age_desc', 'relation', 'Class/ASD'],\n",
       "      dtype='object')"
      ]
     },
     "execution_count": 15,
     "metadata": {},
     "output_type": "execute_result"
    }
   ],
   "source": [
    "# For age column\n",
    "Data_string_type['age'].astype(str).astype(int)\n",
    "Data_string_type.columns"
   ]
  },
  {
   "cell_type": "code",
   "execution_count": 16,
   "id": "c2d0f25e",
   "metadata": {},
   "outputs": [
    {
     "name": "stdout",
     "output_type": "stream",
     "text": [
      "<class 'pandas.core.frame.DataFrame'>\n",
      "RangeIndex: 1100 entries, 0 to 1099\n",
      "Data columns (total 10 columns):\n",
      " #   Column           Non-Null Count  Dtype \n",
      "---  ------           --------------  ----- \n",
      " 0   age              1100 non-null   object\n",
      " 1   gender           1100 non-null   object\n",
      " 2   ethnicity        1100 non-null   object\n",
      " 3   jundice          1100 non-null   object\n",
      " 4   austim           1100 non-null   object\n",
      " 5   contry_of_res    1100 non-null   object\n",
      " 6   used_app_before  1100 non-null   object\n",
      " 7   age_desc         1100 non-null   object\n",
      " 8   relation         1100 non-null   object\n",
      " 9   Class/ASD        1100 non-null   object\n",
      "dtypes: object(10)\n",
      "memory usage: 86.1+ KB\n"
     ]
    }
   ],
   "source": [
    "Data_string_type.info()"
   ]
  },
  {
   "attachments": {},
   "cell_type": "markdown",
   "id": "8c78a04f",
   "metadata": {},
   "source": [
    "##### Finding unique values for each column"
   ]
  },
  {
   "cell_type": "code",
   "execution_count": 17,
   "id": "edf1dbc7",
   "metadata": {},
   "outputs": [
    {
     "data": {
      "text/html": [
       "<div>\n",
       "<style scoped>\n",
       "    .dataframe tbody tr th:only-of-type {\n",
       "        vertical-align: middle;\n",
       "    }\n",
       "\n",
       "    .dataframe tbody tr th {\n",
       "        vertical-align: top;\n",
       "    }\n",
       "\n",
       "    .dataframe thead th {\n",
       "        text-align: right;\n",
       "    }\n",
       "</style>\n",
       "<table border=\"1\" class=\"dataframe\">\n",
       "  <thead>\n",
       "    <tr style=\"text-align: right;\">\n",
       "      <th></th>\n",
       "      <th>age</th>\n",
       "      <th>gender</th>\n",
       "      <th>ethnicity</th>\n",
       "      <th>jundice</th>\n",
       "      <th>austim</th>\n",
       "      <th>contry_of_res</th>\n",
       "      <th>used_app_before</th>\n",
       "      <th>age_desc</th>\n",
       "      <th>relation</th>\n",
       "      <th>Class/ASD</th>\n",
       "    </tr>\n",
       "  </thead>\n",
       "  <tbody>\n",
       "    <tr>\n",
       "      <th>0</th>\n",
       "      <td>6</td>\n",
       "      <td>m</td>\n",
       "      <td>Others</td>\n",
       "      <td>no</td>\n",
       "      <td>no</td>\n",
       "      <td>Jordan</td>\n",
       "      <td>no</td>\n",
       "      <td>'4-11 years'</td>\n",
       "      <td>Parent</td>\n",
       "      <td>NO</td>\n",
       "    </tr>\n",
       "    <tr>\n",
       "      <th>1</th>\n",
       "      <td>6</td>\n",
       "      <td>m</td>\n",
       "      <td>'Middle Eastern '</td>\n",
       "      <td>no</td>\n",
       "      <td>no</td>\n",
       "      <td>Jordan</td>\n",
       "      <td>no</td>\n",
       "      <td>'4-11 years'</td>\n",
       "      <td>Parent</td>\n",
       "      <td>NO</td>\n",
       "    </tr>\n",
       "    <tr>\n",
       "      <th>2</th>\n",
       "      <td>6</td>\n",
       "      <td>m</td>\n",
       "      <td>White-European</td>\n",
       "      <td>no</td>\n",
       "      <td>no</td>\n",
       "      <td>Jordan</td>\n",
       "      <td>yes</td>\n",
       "      <td>'4-11 years'</td>\n",
       "      <td>Self</td>\n",
       "      <td>NO</td>\n",
       "    </tr>\n",
       "    <tr>\n",
       "      <th>13</th>\n",
       "      <td>4</td>\n",
       "      <td>f</td>\n",
       "      <td>Black</td>\n",
       "      <td>no</td>\n",
       "      <td>no</td>\n",
       "      <td>'United Arab Emirates'</td>\n",
       "      <td>no</td>\n",
       "      <td>'4-11 years'</td>\n",
       "      <td>Parent</td>\n",
       "      <td>NO</td>\n",
       "    </tr>\n",
       "    <tr>\n",
       "      <th>16</th>\n",
       "      <td>4</td>\n",
       "      <td>m</td>\n",
       "      <td>'South Asian'</td>\n",
       "      <td>no</td>\n",
       "      <td>no</td>\n",
       "      <td>Bulgaria</td>\n",
       "      <td>no</td>\n",
       "      <td>'4-11 years'</td>\n",
       "      <td>Parent</td>\n",
       "      <td>YES</td>\n",
       "    </tr>\n",
       "    <tr>\n",
       "      <th>22</th>\n",
       "      <td>4</td>\n",
       "      <td>m</td>\n",
       "      <td>Asian</td>\n",
       "      <td>no</td>\n",
       "      <td>no</td>\n",
       "      <td>India</td>\n",
       "      <td>no</td>\n",
       "      <td>'4-11 years'</td>\n",
       "      <td>Parent</td>\n",
       "      <td>NO</td>\n",
       "    </tr>\n",
       "    <tr>\n",
       "      <th>31</th>\n",
       "      <td>6</td>\n",
       "      <td>m</td>\n",
       "      <td>Pasifika</td>\n",
       "      <td>yes</td>\n",
       "      <td>no</td>\n",
       "      <td>'New Zealand'</td>\n",
       "      <td>no</td>\n",
       "      <td>'4-11 years'</td>\n",
       "      <td>Parent</td>\n",
       "      <td>NO</td>\n",
       "    </tr>\n",
       "    <tr>\n",
       "      <th>59</th>\n",
       "      <td>4</td>\n",
       "      <td>m</td>\n",
       "      <td>Hispanic</td>\n",
       "      <td>no</td>\n",
       "      <td>yes</td>\n",
       "      <td>'United States'</td>\n",
       "      <td>no</td>\n",
       "      <td>'4-11 years'</td>\n",
       "      <td>Parent</td>\n",
       "      <td>YES</td>\n",
       "    </tr>\n",
       "    <tr>\n",
       "      <th>60</th>\n",
       "      <td>4</td>\n",
       "      <td>m</td>\n",
       "      <td>Turkish</td>\n",
       "      <td>no</td>\n",
       "      <td>no</td>\n",
       "      <td>Turkey</td>\n",
       "      <td>no</td>\n",
       "      <td>'4-11 years'</td>\n",
       "      <td>Relative</td>\n",
       "      <td>NO</td>\n",
       "    </tr>\n",
       "    <tr>\n",
       "      <th>78</th>\n",
       "      <td>4</td>\n",
       "      <td>m</td>\n",
       "      <td>Latino</td>\n",
       "      <td>no</td>\n",
       "      <td>yes</td>\n",
       "      <td>Brazil</td>\n",
       "      <td>no</td>\n",
       "      <td>'4-11 years'</td>\n",
       "      <td>Parent</td>\n",
       "      <td>YES</td>\n",
       "    </tr>\n",
       "    <tr>\n",
       "      <th>1053</th>\n",
       "      <td>36</td>\n",
       "      <td>m</td>\n",
       "      <td>others</td>\n",
       "      <td>no</td>\n",
       "      <td>no</td>\n",
       "      <td>'United States'</td>\n",
       "      <td>no</td>\n",
       "      <td>'18 and more'</td>\n",
       "      <td>Self</td>\n",
       "      <td>NO</td>\n",
       "    </tr>\n",
       "  </tbody>\n",
       "</table>\n",
       "</div>"
      ],
      "text/plain": [
       "     age gender          ethnicity jundice austim           contry_of_res  \\\n",
       "0      6      m             Others      no     no                  Jordan   \n",
       "1      6      m  'Middle Eastern '      no     no                  Jordan   \n",
       "2      6      m     White-European      no     no                  Jordan   \n",
       "13     4      f              Black      no     no  'United Arab Emirates'   \n",
       "16     4      m      'South Asian'      no     no                Bulgaria   \n",
       "22     4      m              Asian      no     no                   India   \n",
       "31     6      m           Pasifika     yes     no           'New Zealand'   \n",
       "59     4      m           Hispanic      no    yes         'United States'   \n",
       "60     4      m            Turkish      no     no                  Turkey   \n",
       "78     4      m             Latino      no    yes                  Brazil   \n",
       "1053  36      m             others      no     no         'United States'   \n",
       "\n",
       "     used_app_before       age_desc  relation Class/ASD  \n",
       "0                 no   '4-11 years'    Parent        NO  \n",
       "1                 no   '4-11 years'    Parent        NO  \n",
       "2                yes   '4-11 years'      Self        NO  \n",
       "13                no   '4-11 years'    Parent        NO  \n",
       "16                no   '4-11 years'    Parent       YES  \n",
       "22                no   '4-11 years'    Parent        NO  \n",
       "31                no   '4-11 years'    Parent        NO  \n",
       "59                no   '4-11 years'    Parent       YES  \n",
       "60                no   '4-11 years'  Relative        NO  \n",
       "78                no   '4-11 years'    Parent       YES  \n",
       "1053              no  '18 and more'      Self        NO  "
      ]
     },
     "execution_count": 17,
     "metadata": {},
     "output_type": "execute_result"
    }
   ],
   "source": [
    "Data_string_type[~Data_string_type.duplicated('ethnicity')]"
   ]
  },
  {
   "cell_type": "code",
   "execution_count": 18,
   "id": "bf86a673",
   "metadata": {},
   "outputs": [],
   "source": [
    "Data_string_type['gender'] = Data_string_type['gender'].astype('category')\n",
    "Data_string_type['ethnicity'] = Data_string_type['ethnicity'].astype('category')\n",
    "Data_string_type['jundice'] = Data_string_type['jundice'].astype('category')\n",
    "Data_string_type['austim'] = Data_string_type['austim'].astype('category')\n",
    "# Data_string_type['contry_of_res'] = Data_string_type['contry_of_res'].astype('category')\n",
    "Data_string_type['used_app_before'] = Data_string_type['used_app_before'].astype('category')\n",
    "Data_string_type['age_desc'] = Data_string_type['age_desc'].astype('category')\n",
    "Data_string_type['relation'] = Data_string_type['relation'].astype('category')\n",
    "Data_string_type['Class/ASD'] = Data_string_type['Class/ASD'].astype('category')"
   ]
  },
  {
   "cell_type": "code",
   "execution_count": 19,
   "id": "43432231",
   "metadata": {},
   "outputs": [],
   "source": [
    "# Use below to copy and write code faster\n",
    "# .map({'no':0, 'yes':1})\n",
    "\n",
    "Data_string_type['gender'] = Data_string_type['gender'].astype('category').map({'f':0, 'm':1})\n",
    "Data_string_type['ethnicity'] = Data_string_type['ethnicity'].astype('category').astype('category').map(\n",
    "    {'Others':0, \"'Middle Eastern '\":1, 'White-European':2, 'Black':3, \"'South Asian'\":4, 'Asian':5, 'Pasifika':6, 'Hispanic':7, \n",
    "    'Turkish':8, 'Latino':9, 'others':10})\n",
    "Data_string_type['jundice'] = Data_string_type['jundice'].astype('category').map({'no':0, 'yes':1})\n",
    "Data_string_type['austim'] = Data_string_type['austim'].astype('category').map({'no':0, 'yes':1})\n",
    "# Data_string_type['contry_of_res'] = Data_string_type['contry_of_res'].astype('category').map({'no':0, 'yes':1})\n",
    "Data_string_type['used_app_before'] = Data_string_type['used_app_before'].astype('category').map({'no':0, 'yes':1})\n",
    "Data_string_type['age_desc'] = Data_string_type['age_desc'].astype('category').map(\n",
    "    {\"'4-11 years'\":0, \"'12-16 years'\":1, \"'12-15 years'\":2, \"'18 and more'\":3})\n",
    "Data_string_type['relation'] = Data_string_type['relation'].astype('category').map(\n",
    "    {'Parent':0, 'Self':1, 'Relative':2, \"'Health care professional'\":3, 'self':4, 'Others':5})\n",
    "Data_string_type['Class/ASD'] = Data_string_type['Class/ASD'].astype('category').map({'NO':0, 'YES':1})"
   ]
  },
  {
   "cell_type": "code",
   "execution_count": 20,
   "id": "241d1cb7",
   "metadata": {},
   "outputs": [],
   "source": [
    "Data_string_type = removeCols(Data_string_type, Data_string_type.columns[5:6])"
   ]
  },
  {
   "cell_type": "code",
   "execution_count": 21,
   "id": "f96cdbfa",
   "metadata": {},
   "outputs": [
    {
     "name": "stdout",
     "output_type": "stream",
     "text": [
      "<class 'pandas.core.frame.DataFrame'>\n",
      "RangeIndex: 1100 entries, 0 to 1099\n",
      "Data columns (total 9 columns):\n",
      " #   Column           Non-Null Count  Dtype   \n",
      "---  ------           --------------  -----   \n",
      " 0   age              1100 non-null   object  \n",
      " 1   gender           1100 non-null   category\n",
      " 2   ethnicity        1100 non-null   category\n",
      " 3   jundice          1100 non-null   category\n",
      " 4   austim           1100 non-null   category\n",
      " 5   used_app_before  1100 non-null   category\n",
      " 6   age_desc         1100 non-null   category\n",
      " 7   relation         1100 non-null   category\n",
      " 8   Class/ASD        1100 non-null   category\n",
      "dtypes: category(8), object(1)\n",
      "memory usage: 18.7+ KB\n"
     ]
    }
   ],
   "source": [
    "# Type of columns\n",
    "Data_string_type.info()"
   ]
  },
  {
   "attachments": {},
   "cell_type": "markdown",
   "id": "376008b7",
   "metadata": {},
   "source": [
    "### Joining Data"
   ]
  },
  {
   "cell_type": "code",
   "execution_count": 22,
   "id": "85384760",
   "metadata": {},
   "outputs": [],
   "source": [
    "Final_Data = pd.concat([Data_int_type, Data_string_type], axis = 1)"
   ]
  },
  {
   "cell_type": "code",
   "execution_count": 23,
   "id": "58397155",
   "metadata": {},
   "outputs": [
    {
     "data": {
      "text/html": [
       "<div>\n",
       "<style scoped>\n",
       "    .dataframe tbody tr th:only-of-type {\n",
       "        vertical-align: middle;\n",
       "    }\n",
       "\n",
       "    .dataframe tbody tr th {\n",
       "        vertical-align: top;\n",
       "    }\n",
       "\n",
       "    .dataframe thead th {\n",
       "        text-align: right;\n",
       "    }\n",
       "</style>\n",
       "<table border=\"1\" class=\"dataframe\">\n",
       "  <thead>\n",
       "    <tr style=\"text-align: right;\">\n",
       "      <th></th>\n",
       "      <th>A1_Score</th>\n",
       "      <th>A2_Score</th>\n",
       "      <th>A3_Score</th>\n",
       "      <th>A4_Score</th>\n",
       "      <th>A5_Score</th>\n",
       "      <th>A6_Score</th>\n",
       "      <th>A7_Score</th>\n",
       "      <th>A8_Score</th>\n",
       "      <th>A9_Score</th>\n",
       "      <th>A10_Score</th>\n",
       "      <th>...</th>\n",
       "      <th>Age Grp</th>\n",
       "      <th>age</th>\n",
       "      <th>gender</th>\n",
       "      <th>ethnicity</th>\n",
       "      <th>jundice</th>\n",
       "      <th>austim</th>\n",
       "      <th>used_app_before</th>\n",
       "      <th>age_desc</th>\n",
       "      <th>relation</th>\n",
       "      <th>Class/ASD</th>\n",
       "    </tr>\n",
       "  </thead>\n",
       "  <tbody>\n",
       "    <tr>\n",
       "      <th>0</th>\n",
       "      <td>1</td>\n",
       "      <td>1</td>\n",
       "      <td>0</td>\n",
       "      <td>0</td>\n",
       "      <td>1</td>\n",
       "      <td>1</td>\n",
       "      <td>0</td>\n",
       "      <td>1</td>\n",
       "      <td>0</td>\n",
       "      <td>0</td>\n",
       "      <td>...</td>\n",
       "      <td>1</td>\n",
       "      <td>6</td>\n",
       "      <td>1</td>\n",
       "      <td>0</td>\n",
       "      <td>0</td>\n",
       "      <td>0</td>\n",
       "      <td>0</td>\n",
       "      <td>0</td>\n",
       "      <td>0</td>\n",
       "      <td>0</td>\n",
       "    </tr>\n",
       "    <tr>\n",
       "      <th>1</th>\n",
       "      <td>1</td>\n",
       "      <td>1</td>\n",
       "      <td>0</td>\n",
       "      <td>0</td>\n",
       "      <td>1</td>\n",
       "      <td>1</td>\n",
       "      <td>0</td>\n",
       "      <td>1</td>\n",
       "      <td>0</td>\n",
       "      <td>0</td>\n",
       "      <td>...</td>\n",
       "      <td>1</td>\n",
       "      <td>6</td>\n",
       "      <td>1</td>\n",
       "      <td>1</td>\n",
       "      <td>0</td>\n",
       "      <td>0</td>\n",
       "      <td>0</td>\n",
       "      <td>0</td>\n",
       "      <td>0</td>\n",
       "      <td>0</td>\n",
       "    </tr>\n",
       "    <tr>\n",
       "      <th>2</th>\n",
       "      <td>1</td>\n",
       "      <td>1</td>\n",
       "      <td>0</td>\n",
       "      <td>0</td>\n",
       "      <td>0</td>\n",
       "      <td>1</td>\n",
       "      <td>1</td>\n",
       "      <td>1</td>\n",
       "      <td>0</td>\n",
       "      <td>0</td>\n",
       "      <td>...</td>\n",
       "      <td>1</td>\n",
       "      <td>6</td>\n",
       "      <td>1</td>\n",
       "      <td>2</td>\n",
       "      <td>0</td>\n",
       "      <td>0</td>\n",
       "      <td>1</td>\n",
       "      <td>0</td>\n",
       "      <td>1</td>\n",
       "      <td>0</td>\n",
       "    </tr>\n",
       "    <tr>\n",
       "      <th>3</th>\n",
       "      <td>0</td>\n",
       "      <td>1</td>\n",
       "      <td>0</td>\n",
       "      <td>0</td>\n",
       "      <td>1</td>\n",
       "      <td>1</td>\n",
       "      <td>0</td>\n",
       "      <td>0</td>\n",
       "      <td>0</td>\n",
       "      <td>1</td>\n",
       "      <td>...</td>\n",
       "      <td>1</td>\n",
       "      <td>5</td>\n",
       "      <td>0</td>\n",
       "      <td>2</td>\n",
       "      <td>1</td>\n",
       "      <td>0</td>\n",
       "      <td>0</td>\n",
       "      <td>0</td>\n",
       "      <td>1</td>\n",
       "      <td>0</td>\n",
       "    </tr>\n",
       "    <tr>\n",
       "      <th>4</th>\n",
       "      <td>1</td>\n",
       "      <td>1</td>\n",
       "      <td>1</td>\n",
       "      <td>1</td>\n",
       "      <td>1</td>\n",
       "      <td>1</td>\n",
       "      <td>1</td>\n",
       "      <td>1</td>\n",
       "      <td>1</td>\n",
       "      <td>1</td>\n",
       "      <td>...</td>\n",
       "      <td>1</td>\n",
       "      <td>5</td>\n",
       "      <td>1</td>\n",
       "      <td>0</td>\n",
       "      <td>1</td>\n",
       "      <td>0</td>\n",
       "      <td>0</td>\n",
       "      <td>0</td>\n",
       "      <td>0</td>\n",
       "      <td>1</td>\n",
       "    </tr>\n",
       "    <tr>\n",
       "      <th>...</th>\n",
       "      <td>...</td>\n",
       "      <td>...</td>\n",
       "      <td>...</td>\n",
       "      <td>...</td>\n",
       "      <td>...</td>\n",
       "      <td>...</td>\n",
       "      <td>...</td>\n",
       "      <td>...</td>\n",
       "      <td>...</td>\n",
       "      <td>...</td>\n",
       "      <td>...</td>\n",
       "      <td>...</td>\n",
       "      <td>...</td>\n",
       "      <td>...</td>\n",
       "      <td>...</td>\n",
       "      <td>...</td>\n",
       "      <td>...</td>\n",
       "      <td>...</td>\n",
       "      <td>...</td>\n",
       "      <td>...</td>\n",
       "      <td>...</td>\n",
       "    </tr>\n",
       "    <tr>\n",
       "      <th>1095</th>\n",
       "      <td>0</td>\n",
       "      <td>1</td>\n",
       "      <td>0</td>\n",
       "      <td>1</td>\n",
       "      <td>1</td>\n",
       "      <td>0</td>\n",
       "      <td>1</td>\n",
       "      <td>1</td>\n",
       "      <td>1</td>\n",
       "      <td>1</td>\n",
       "      <td>...</td>\n",
       "      <td>3</td>\n",
       "      <td>25</td>\n",
       "      <td>0</td>\n",
       "      <td>2</td>\n",
       "      <td>0</td>\n",
       "      <td>0</td>\n",
       "      <td>0</td>\n",
       "      <td>3</td>\n",
       "      <td>1</td>\n",
       "      <td>1</td>\n",
       "    </tr>\n",
       "    <tr>\n",
       "      <th>1096</th>\n",
       "      <td>1</td>\n",
       "      <td>0</td>\n",
       "      <td>0</td>\n",
       "      <td>0</td>\n",
       "      <td>0</td>\n",
       "      <td>0</td>\n",
       "      <td>0</td>\n",
       "      <td>1</td>\n",
       "      <td>0</td>\n",
       "      <td>1</td>\n",
       "      <td>...</td>\n",
       "      <td>3</td>\n",
       "      <td>34</td>\n",
       "      <td>1</td>\n",
       "      <td>7</td>\n",
       "      <td>0</td>\n",
       "      <td>0</td>\n",
       "      <td>0</td>\n",
       "      <td>3</td>\n",
       "      <td>0</td>\n",
       "      <td>0</td>\n",
       "    </tr>\n",
       "    <tr>\n",
       "      <th>1097</th>\n",
       "      <td>1</td>\n",
       "      <td>0</td>\n",
       "      <td>1</td>\n",
       "      <td>1</td>\n",
       "      <td>1</td>\n",
       "      <td>0</td>\n",
       "      <td>1</td>\n",
       "      <td>1</td>\n",
       "      <td>0</td>\n",
       "      <td>1</td>\n",
       "      <td>...</td>\n",
       "      <td>3</td>\n",
       "      <td>24</td>\n",
       "      <td>0</td>\n",
       "      <td>2</td>\n",
       "      <td>0</td>\n",
       "      <td>0</td>\n",
       "      <td>0</td>\n",
       "      <td>3</td>\n",
       "      <td>1</td>\n",
       "      <td>1</td>\n",
       "    </tr>\n",
       "    <tr>\n",
       "      <th>1098</th>\n",
       "      <td>1</td>\n",
       "      <td>0</td>\n",
       "      <td>0</td>\n",
       "      <td>1</td>\n",
       "      <td>1</td>\n",
       "      <td>0</td>\n",
       "      <td>1</td>\n",
       "      <td>0</td>\n",
       "      <td>1</td>\n",
       "      <td>1</td>\n",
       "      <td>...</td>\n",
       "      <td>3</td>\n",
       "      <td>35</td>\n",
       "      <td>1</td>\n",
       "      <td>4</td>\n",
       "      <td>0</td>\n",
       "      <td>0</td>\n",
       "      <td>0</td>\n",
       "      <td>3</td>\n",
       "      <td>1</td>\n",
       "      <td>0</td>\n",
       "    </tr>\n",
       "    <tr>\n",
       "      <th>1099</th>\n",
       "      <td>1</td>\n",
       "      <td>0</td>\n",
       "      <td>1</td>\n",
       "      <td>1</td>\n",
       "      <td>1</td>\n",
       "      <td>0</td>\n",
       "      <td>1</td>\n",
       "      <td>1</td>\n",
       "      <td>1</td>\n",
       "      <td>1</td>\n",
       "      <td>...</td>\n",
       "      <td>3</td>\n",
       "      <td>26</td>\n",
       "      <td>0</td>\n",
       "      <td>2</td>\n",
       "      <td>0</td>\n",
       "      <td>0</td>\n",
       "      <td>0</td>\n",
       "      <td>3</td>\n",
       "      <td>1</td>\n",
       "      <td>1</td>\n",
       "    </tr>\n",
       "  </tbody>\n",
       "</table>\n",
       "<p>1100 rows × 21 columns</p>\n",
       "</div>"
      ],
      "text/plain": [
       "      A1_Score  A2_Score  A3_Score  A4_Score  A5_Score  A6_Score  A7_Score  \\\n",
       "0            1         1         0         0         1         1         0   \n",
       "1            1         1         0         0         1         1         0   \n",
       "2            1         1         0         0         0         1         1   \n",
       "3            0         1         0         0         1         1         0   \n",
       "4            1         1         1         1         1         1         1   \n",
       "...        ...       ...       ...       ...       ...       ...       ...   \n",
       "1095         0         1         0         1         1         0         1   \n",
       "1096         1         0         0         0         0         0         0   \n",
       "1097         1         0         1         1         1         0         1   \n",
       "1098         1         0         0         1         1         0         1   \n",
       "1099         1         0         1         1         1         0         1   \n",
       "\n",
       "      A8_Score  A9_Score  A10_Score  ...  Age Grp  age gender ethnicity  \\\n",
       "0            1         0          0  ...        1    6      1         0   \n",
       "1            1         0          0  ...        1    6      1         1   \n",
       "2            1         0          0  ...        1    6      1         2   \n",
       "3            0         0          1  ...        1    5      0         2   \n",
       "4            1         1          1  ...        1    5      1         0   \n",
       "...        ...       ...        ...  ...      ...  ...    ...       ...   \n",
       "1095         1         1          1  ...        3   25      0         2   \n",
       "1096         1         0          1  ...        3   34      1         7   \n",
       "1097         1         0          1  ...        3   24      0         2   \n",
       "1098         0         1          1  ...        3   35      1         4   \n",
       "1099         1         1          1  ...        3   26      0         2   \n",
       "\n",
       "     jundice austim used_app_before age_desc relation Class/ASD  \n",
       "0          0      0               0        0        0         0  \n",
       "1          0      0               0        0        0         0  \n",
       "2          0      0               1        0        1         0  \n",
       "3          1      0               0        0        1         0  \n",
       "4          1      0               0        0        0         1  \n",
       "...      ...    ...             ...      ...      ...       ...  \n",
       "1095       0      0               0        3        1         1  \n",
       "1096       0      0               0        3        0         0  \n",
       "1097       0      0               0        3        1         1  \n",
       "1098       0      0               0        3        1         0  \n",
       "1099       0      0               0        3        1         1  \n",
       "\n",
       "[1100 rows x 21 columns]"
      ]
     },
     "execution_count": 23,
     "metadata": {},
     "output_type": "execute_result"
    }
   ],
   "source": [
    "Final_Data"
   ]
  },
  {
   "cell_type": "markdown",
   "id": "a4c0058e",
   "metadata": {},
   "source": [
    "### Checking correlation using Heatmap"
   ]
  },
  {
   "cell_type": "code",
   "execution_count": 24,
   "id": "67576fd6",
   "metadata": {},
   "outputs": [
    {
     "data": {
      "text/plain": [
       "<AxesSubplot:>"
      ]
     },
     "execution_count": 24,
     "metadata": {},
     "output_type": "execute_result"
    },
    {
     "data": {
      "image/png": "[encoded data removed]",
      "text/plain": [
       "<Figure size 720x720 with 2 Axes>"
      ]
     },
     "metadata": {
      "needs_background": "light"
     },
     "output_type": "display_data"
    }
   ],
   "source": [
    "# Adjusting figure size through custom parameters\n",
    "plt.rcParams['figure.figsize'] = [10, 10]\n",
    "\n",
    "#ploting the heatmap for correlation\n",
    "corr = Final_Data.corr()\n",
    "sns.heatmap(corr, annot=True)"
   ]
  },
  {
   "cell_type": "markdown",
   "id": "df83ca2d",
   "metadata": {},
   "source": [
    "##### Remove one of two features that have a correlation higher than 0.9"
   ]
  },
  {
   "cell_type": "code",
   "execution_count": 25,
   "id": "c229c11c",
   "metadata": {},
   "outputs": [],
   "source": [
    "delL = []\n",
    "columns = np.full((corr.shape[0],), True, dtype=bool)\n",
    "for i in range(corr.shape[0]):\n",
    "    for j in range(i+1, corr.shape[0]):\n",
    "        if corr.iloc[i,j] >= 0.5:\n",
    "            delL.append(j)\n",
    "\n",
    "####\n",
    "delL = list(set(delL))\n",
    "Final_Data.drop(Final_Data.columns[delL], axis = 1, inplace = True)"
   ]
  },
  {
   "cell_type": "code",
   "execution_count": 26,
   "id": "fd7564c0",
   "metadata": {},
   "outputs": [
    {
     "data": {
      "text/plain": [
       "Index(['A1_Score', 'A2_Score', 'A3_Score', 'A4_Score', 'A5_Score', 'A6_Score',\n",
       "       'A7_Score', 'A8_Score', 'A9_Score', 'A10_Score', 'Age Grp', 'age',\n",
       "       'gender', 'ethnicity', 'jundice', 'austim', 'used_app_before',\n",
       "       'age_desc', 'relation', 'Class/ASD'],\n",
       "      dtype='object')"
      ]
     },
     "execution_count": 26,
     "metadata": {},
     "output_type": "execute_result"
    }
   ],
   "source": [
    "Final_Data.columns"
   ]
  },
  {
   "cell_type": "code",
   "execution_count": 27,
   "id": "e77b58a5",
   "metadata": {},
   "outputs": [
    {
     "data": {
      "text/plain": [
       "Index(['A1_Score', 'A2_Score', 'A3_Score', 'A4_Score', 'A5_Score', 'A6_Score',\n",
       "       'A7_Score', 'A8_Score', 'A9_Score', 'A10_Score', 'age', 'gender',\n",
       "       'ethnicity', 'jundice', 'austim', 'contry_of_res', 'used_app_before',\n",
       "       'result', 'age_desc', 'Age Grp', 'relation', 'Class/ASD'],\n",
       "      dtype='object')"
      ]
     },
     "execution_count": 27,
     "metadata": {},
     "output_type": "execute_result"
    }
   ],
   "source": [
    "Data.columns"
   ]
  },
  {
   "cell_type": "markdown",
   "id": "7de2b16c",
   "metadata": {},
   "source": [
    "### Checking balance of Dataset"
   ]
  },
  {
   "cell_type": "markdown",
   "id": "ac826166",
   "metadata": {},
   "source": [
    "##### Step - 1: To check wether dataset is balanced or not"
   ]
  },
  {
   "cell_type": "code",
   "execution_count": 43,
   "id": "2b513192",
   "metadata": {},
   "outputs": [
    {
     "name": "stdout",
     "output_type": "stream",
     "text": [
      "0    707\n",
      "1    393\n",
      "Name: Class/ASD, dtype: int64\n",
      "\n",
      "===============================================================================================================================\n",
      "\n",
      "On Scale of 10 Distribution is,\n",
      "N or [0] -  0.6427272727272727\n",
      "Y or [1] -  0.3572727272727273\n"
     ]
    }
   ],
   "source": [
    "balanceVal = Final_Data[\"Class/ASD\"].value_counts()\n",
    "\n",
    "print(balanceVal, end = \"\\n\")\n",
    "\n",
    "lineDistributer()\n",
    "\n",
    "print(\"On Scale of 10 Distribution is,\")\n",
    "\n",
    "print(\"N or [0] - \", balanceVal[0]/(balanceVal[0]+balanceVal[1]))\n",
    "print(\"Y or [1] - \", balanceVal[1]/(balanceVal[0]+balanceVal[1]))"
   ]
  },
  {
   "cell_type": "markdown",
   "id": "5be72674",
   "metadata": {},
   "source": [
    "##### Step - 2: Separating Majority classes from Minority classes"
   ]
  },
  {
   "cell_type": "code",
   "execution_count": 44,
   "id": "b246470b",
   "metadata": {},
   "outputs": [
    {
     "data": {
      "text/html": [
       "<div>\n",
       "<style scoped>\n",
       "    .dataframe tbody tr th:only-of-type {\n",
       "        vertical-align: middle;\n",
       "    }\n",
       "\n",
       "    .dataframe tbody tr th {\n",
       "        vertical-align: top;\n",
       "    }\n",
       "\n",
       "    .dataframe thead th {\n",
       "        text-align: right;\n",
       "    }\n",
       "</style>\n",
       "<table border=\"1\" class=\"dataframe\">\n",
       "  <thead>\n",
       "    <tr style=\"text-align: right;\">\n",
       "      <th></th>\n",
       "      <th>A1_Score</th>\n",
       "      <th>A2_Score</th>\n",
       "      <th>A3_Score</th>\n",
       "      <th>A4_Score</th>\n",
       "      <th>A5_Score</th>\n",
       "      <th>A6_Score</th>\n",
       "      <th>A7_Score</th>\n",
       "      <th>A8_Score</th>\n",
       "      <th>A9_Score</th>\n",
       "      <th>A10_Score</th>\n",
       "      <th>Age Grp</th>\n",
       "      <th>age</th>\n",
       "      <th>gender</th>\n",
       "      <th>ethnicity</th>\n",
       "      <th>jundice</th>\n",
       "      <th>austim</th>\n",
       "      <th>used_app_before</th>\n",
       "      <th>age_desc</th>\n",
       "      <th>relation</th>\n",
       "      <th>Class/ASD</th>\n",
       "    </tr>\n",
       "  </thead>\n",
       "  <tbody>\n",
       "    <tr>\n",
       "      <th>4</th>\n",
       "      <td>1</td>\n",
       "      <td>1</td>\n",
       "      <td>1</td>\n",
       "      <td>1</td>\n",
       "      <td>1</td>\n",
       "      <td>1</td>\n",
       "      <td>1</td>\n",
       "      <td>1</td>\n",
       "      <td>1</td>\n",
       "      <td>1</td>\n",
       "      <td>1</td>\n",
       "      <td>5</td>\n",
       "      <td>1</td>\n",
       "      <td>0</td>\n",
       "      <td>1</td>\n",
       "      <td>0</td>\n",
       "      <td>0</td>\n",
       "      <td>0</td>\n",
       "      <td>0</td>\n",
       "      <td>1</td>\n",
       "    </tr>\n",
       "    <tr>\n",
       "      <th>6</th>\n",
       "      <td>1</td>\n",
       "      <td>0</td>\n",
       "      <td>1</td>\n",
       "      <td>1</td>\n",
       "      <td>1</td>\n",
       "      <td>1</td>\n",
       "      <td>0</td>\n",
       "      <td>1</td>\n",
       "      <td>0</td>\n",
       "      <td>1</td>\n",
       "      <td>1</td>\n",
       "      <td>5</td>\n",
       "      <td>1</td>\n",
       "      <td>2</td>\n",
       "      <td>0</td>\n",
       "      <td>0</td>\n",
       "      <td>0</td>\n",
       "      <td>0</td>\n",
       "      <td>0</td>\n",
       "      <td>1</td>\n",
       "    </tr>\n",
       "    <tr>\n",
       "      <th>7</th>\n",
       "      <td>1</td>\n",
       "      <td>1</td>\n",
       "      <td>1</td>\n",
       "      <td>1</td>\n",
       "      <td>1</td>\n",
       "      <td>1</td>\n",
       "      <td>1</td>\n",
       "      <td>1</td>\n",
       "      <td>0</td>\n",
       "      <td>0</td>\n",
       "      <td>1</td>\n",
       "      <td>5</td>\n",
       "      <td>0</td>\n",
       "      <td>1</td>\n",
       "      <td>0</td>\n",
       "      <td>0</td>\n",
       "      <td>0</td>\n",
       "      <td>0</td>\n",
       "      <td>0</td>\n",
       "      <td>1</td>\n",
       "    </tr>\n",
       "    <tr>\n",
       "      <th>8</th>\n",
       "      <td>1</td>\n",
       "      <td>1</td>\n",
       "      <td>1</td>\n",
       "      <td>1</td>\n",
       "      <td>1</td>\n",
       "      <td>1</td>\n",
       "      <td>1</td>\n",
       "      <td>0</td>\n",
       "      <td>0</td>\n",
       "      <td>0</td>\n",
       "      <td>1</td>\n",
       "      <td>11</td>\n",
       "      <td>0</td>\n",
       "      <td>1</td>\n",
       "      <td>0</td>\n",
       "      <td>0</td>\n",
       "      <td>0</td>\n",
       "      <td>0</td>\n",
       "      <td>0</td>\n",
       "      <td>1</td>\n",
       "    </tr>\n",
       "    <tr>\n",
       "      <th>10</th>\n",
       "      <td>1</td>\n",
       "      <td>0</td>\n",
       "      <td>0</td>\n",
       "      <td>0</td>\n",
       "      <td>1</td>\n",
       "      <td>1</td>\n",
       "      <td>1</td>\n",
       "      <td>1</td>\n",
       "      <td>1</td>\n",
       "      <td>1</td>\n",
       "      <td>1</td>\n",
       "      <td>10</td>\n",
       "      <td>1</td>\n",
       "      <td>2</td>\n",
       "      <td>1</td>\n",
       "      <td>0</td>\n",
       "      <td>0</td>\n",
       "      <td>0</td>\n",
       "      <td>1</td>\n",
       "      <td>1</td>\n",
       "    </tr>\n",
       "  </tbody>\n",
       "</table>\n",
       "</div>"
      ],
      "text/plain": [
       "    A1_Score  A2_Score  A3_Score  A4_Score  A5_Score  A6_Score  A7_Score  \\\n",
       "4          1         1         1         1         1         1         1   \n",
       "6          1         0         1         1         1         1         0   \n",
       "7          1         1         1         1         1         1         1   \n",
       "8          1         1         1         1         1         1         1   \n",
       "10         1         0         0         0         1         1         1   \n",
       "\n",
       "    A8_Score  A9_Score  A10_Score  Age Grp age gender ethnicity jundice  \\\n",
       "4          1         1          1        1   5      1         0       1   \n",
       "6          1         0          1        1   5      1         2       0   \n",
       "7          1         0          0        1   5      0         1       0   \n",
       "8          0         0          0        1  11      0         1       0   \n",
       "10         1         1          1        1  10      1         2       1   \n",
       "\n",
       "   austim used_app_before age_desc relation Class/ASD  \n",
       "4       0               0        0        0         1  \n",
       "6       0               0        0        0         1  \n",
       "7       0               0        0        0         1  \n",
       "8       0               0        0        0         1  \n",
       "10      0               0        0        1         1  "
      ]
     },
     "execution_count": 44,
     "metadata": {},
     "output_type": "execute_result"
    }
   ],
   "source": [
    "majority = Final_Data[Final_Data[\"Class/ASD\"] == 0]\n",
    "minority = Final_Data[Final_Data[\"Class/ASD\"] == 1]\n",
    "minority.head()"
   ]
  },
  {
   "cell_type": "markdown",
   "id": "2355692a",
   "metadata": {},
   "source": [
    "##### Step - 3: Trying to balance data"
   ]
  },
  {
   "cell_type": "code",
   "execution_count": 45,
   "id": "afdce78b",
   "metadata": {},
   "outputs": [],
   "source": [
    "# replace is set so that sample with replacement happens \n",
    "# n_samples = 707 because earlier we found same number of majority classes \n",
    "# Random State = 27 to reproduce results\n",
    "\n",
    "upSample = resample(minority, replace = True, n_samples = 707, random_state = 27)"
   ]
  },
  {
   "cell_type": "markdown",
   "id": "336b4a0e",
   "metadata": {},
   "source": [
    "##### Step - 4: Adding back data to balance it a bit better"
   ]
  },
  {
   "cell_type": "code",
   "execution_count": 46,
   "id": "883d9765",
   "metadata": {},
   "outputs": [
    {
     "data": {
      "text/html": [
       "<div>\n",
       "<style scoped>\n",
       "    .dataframe tbody tr th:only-of-type {\n",
       "        vertical-align: middle;\n",
       "    }\n",
       "\n",
       "    .dataframe tbody tr th {\n",
       "        vertical-align: top;\n",
       "    }\n",
       "\n",
       "    .dataframe thead th {\n",
       "        text-align: right;\n",
       "    }\n",
       "</style>\n",
       "<table border=\"1\" class=\"dataframe\">\n",
       "  <thead>\n",
       "    <tr style=\"text-align: right;\">\n",
       "      <th></th>\n",
       "      <th>A1_Score</th>\n",
       "      <th>A2_Score</th>\n",
       "      <th>A3_Score</th>\n",
       "      <th>A4_Score</th>\n",
       "      <th>A5_Score</th>\n",
       "      <th>A6_Score</th>\n",
       "      <th>A7_Score</th>\n",
       "      <th>A8_Score</th>\n",
       "      <th>A9_Score</th>\n",
       "      <th>A10_Score</th>\n",
       "      <th>Age Grp</th>\n",
       "      <th>age</th>\n",
       "      <th>gender</th>\n",
       "      <th>ethnicity</th>\n",
       "      <th>jundice</th>\n",
       "      <th>austim</th>\n",
       "      <th>used_app_before</th>\n",
       "      <th>age_desc</th>\n",
       "      <th>relation</th>\n",
       "      <th>Class/ASD</th>\n",
       "    </tr>\n",
       "  </thead>\n",
       "  <tbody>\n",
       "    <tr>\n",
       "      <th>0</th>\n",
       "      <td>1</td>\n",
       "      <td>1</td>\n",
       "      <td>0</td>\n",
       "      <td>0</td>\n",
       "      <td>1</td>\n",
       "      <td>1</td>\n",
       "      <td>0</td>\n",
       "      <td>1</td>\n",
       "      <td>0</td>\n",
       "      <td>0</td>\n",
       "      <td>1</td>\n",
       "      <td>6</td>\n",
       "      <td>1</td>\n",
       "      <td>0</td>\n",
       "      <td>0</td>\n",
       "      <td>0</td>\n",
       "      <td>0</td>\n",
       "      <td>0</td>\n",
       "      <td>0</td>\n",
       "      <td>0</td>\n",
       "    </tr>\n",
       "    <tr>\n",
       "      <th>1</th>\n",
       "      <td>1</td>\n",
       "      <td>1</td>\n",
       "      <td>0</td>\n",
       "      <td>0</td>\n",
       "      <td>1</td>\n",
       "      <td>1</td>\n",
       "      <td>0</td>\n",
       "      <td>1</td>\n",
       "      <td>0</td>\n",
       "      <td>0</td>\n",
       "      <td>1</td>\n",
       "      <td>6</td>\n",
       "      <td>1</td>\n",
       "      <td>1</td>\n",
       "      <td>0</td>\n",
       "      <td>0</td>\n",
       "      <td>0</td>\n",
       "      <td>0</td>\n",
       "      <td>0</td>\n",
       "      <td>0</td>\n",
       "    </tr>\n",
       "    <tr>\n",
       "      <th>2</th>\n",
       "      <td>1</td>\n",
       "      <td>1</td>\n",
       "      <td>0</td>\n",
       "      <td>0</td>\n",
       "      <td>0</td>\n",
       "      <td>1</td>\n",
       "      <td>1</td>\n",
       "      <td>1</td>\n",
       "      <td>0</td>\n",
       "      <td>0</td>\n",
       "      <td>1</td>\n",
       "      <td>6</td>\n",
       "      <td>1</td>\n",
       "      <td>2</td>\n",
       "      <td>0</td>\n",
       "      <td>0</td>\n",
       "      <td>1</td>\n",
       "      <td>0</td>\n",
       "      <td>1</td>\n",
       "      <td>0</td>\n",
       "    </tr>\n",
       "    <tr>\n",
       "      <th>3</th>\n",
       "      <td>0</td>\n",
       "      <td>1</td>\n",
       "      <td>0</td>\n",
       "      <td>0</td>\n",
       "      <td>1</td>\n",
       "      <td>1</td>\n",
       "      <td>0</td>\n",
       "      <td>0</td>\n",
       "      <td>0</td>\n",
       "      <td>1</td>\n",
       "      <td>1</td>\n",
       "      <td>5</td>\n",
       "      <td>0</td>\n",
       "      <td>2</td>\n",
       "      <td>1</td>\n",
       "      <td>0</td>\n",
       "      <td>0</td>\n",
       "      <td>0</td>\n",
       "      <td>1</td>\n",
       "      <td>0</td>\n",
       "    </tr>\n",
       "    <tr>\n",
       "      <th>5</th>\n",
       "      <td>0</td>\n",
       "      <td>0</td>\n",
       "      <td>1</td>\n",
       "      <td>0</td>\n",
       "      <td>1</td>\n",
       "      <td>1</td>\n",
       "      <td>0</td>\n",
       "      <td>1</td>\n",
       "      <td>0</td>\n",
       "      <td>1</td>\n",
       "      <td>1</td>\n",
       "      <td>4</td>\n",
       "      <td>1</td>\n",
       "      <td>2</td>\n",
       "      <td>0</td>\n",
       "      <td>1</td>\n",
       "      <td>0</td>\n",
       "      <td>0</td>\n",
       "      <td>1</td>\n",
       "      <td>0</td>\n",
       "    </tr>\n",
       "    <tr>\n",
       "      <th>...</th>\n",
       "      <td>...</td>\n",
       "      <td>...</td>\n",
       "      <td>...</td>\n",
       "      <td>...</td>\n",
       "      <td>...</td>\n",
       "      <td>...</td>\n",
       "      <td>...</td>\n",
       "      <td>...</td>\n",
       "      <td>...</td>\n",
       "      <td>...</td>\n",
       "      <td>...</td>\n",
       "      <td>...</td>\n",
       "      <td>...</td>\n",
       "      <td>...</td>\n",
       "      <td>...</td>\n",
       "      <td>...</td>\n",
       "      <td>...</td>\n",
       "      <td>...</td>\n",
       "      <td>...</td>\n",
       "      <td>...</td>\n",
       "    </tr>\n",
       "    <tr>\n",
       "      <th>478</th>\n",
       "      <td>1</td>\n",
       "      <td>1</td>\n",
       "      <td>1</td>\n",
       "      <td>1</td>\n",
       "      <td>1</td>\n",
       "      <td>1</td>\n",
       "      <td>1</td>\n",
       "      <td>1</td>\n",
       "      <td>1</td>\n",
       "      <td>1</td>\n",
       "      <td>3</td>\n",
       "      <td>33</td>\n",
       "      <td>0</td>\n",
       "      <td>2</td>\n",
       "      <td>0</td>\n",
       "      <td>1</td>\n",
       "      <td>0</td>\n",
       "      <td>3</td>\n",
       "      <td>1</td>\n",
       "      <td>1</td>\n",
       "    </tr>\n",
       "    <tr>\n",
       "      <th>270</th>\n",
       "      <td>0</td>\n",
       "      <td>1</td>\n",
       "      <td>1</td>\n",
       "      <td>1</td>\n",
       "      <td>1</td>\n",
       "      <td>1</td>\n",
       "      <td>0</td>\n",
       "      <td>1</td>\n",
       "      <td>0</td>\n",
       "      <td>1</td>\n",
       "      <td>1</td>\n",
       "      <td>4</td>\n",
       "      <td>1</td>\n",
       "      <td>5</td>\n",
       "      <td>0</td>\n",
       "      <td>0</td>\n",
       "      <td>0</td>\n",
       "      <td>0</td>\n",
       "      <td>0</td>\n",
       "      <td>1</td>\n",
       "    </tr>\n",
       "    <tr>\n",
       "      <th>285</th>\n",
       "      <td>0</td>\n",
       "      <td>1</td>\n",
       "      <td>0</td>\n",
       "      <td>1</td>\n",
       "      <td>1</td>\n",
       "      <td>1</td>\n",
       "      <td>1</td>\n",
       "      <td>1</td>\n",
       "      <td>1</td>\n",
       "      <td>1</td>\n",
       "      <td>1</td>\n",
       "      <td>10</td>\n",
       "      <td>0</td>\n",
       "      <td>2</td>\n",
       "      <td>0</td>\n",
       "      <td>0</td>\n",
       "      <td>0</td>\n",
       "      <td>0</td>\n",
       "      <td>3</td>\n",
       "      <td>1</td>\n",
       "    </tr>\n",
       "    <tr>\n",
       "      <th>10</th>\n",
       "      <td>1</td>\n",
       "      <td>0</td>\n",
       "      <td>0</td>\n",
       "      <td>0</td>\n",
       "      <td>1</td>\n",
       "      <td>1</td>\n",
       "      <td>1</td>\n",
       "      <td>1</td>\n",
       "      <td>1</td>\n",
       "      <td>1</td>\n",
       "      <td>1</td>\n",
       "      <td>10</td>\n",
       "      <td>1</td>\n",
       "      <td>2</td>\n",
       "      <td>1</td>\n",
       "      <td>0</td>\n",
       "      <td>0</td>\n",
       "      <td>0</td>\n",
       "      <td>1</td>\n",
       "      <td>1</td>\n",
       "    </tr>\n",
       "    <tr>\n",
       "      <th>599</th>\n",
       "      <td>1</td>\n",
       "      <td>1</td>\n",
       "      <td>1</td>\n",
       "      <td>1</td>\n",
       "      <td>1</td>\n",
       "      <td>1</td>\n",
       "      <td>1</td>\n",
       "      <td>0</td>\n",
       "      <td>1</td>\n",
       "      <td>1</td>\n",
       "      <td>3</td>\n",
       "      <td>60</td>\n",
       "      <td>0</td>\n",
       "      <td>2</td>\n",
       "      <td>0</td>\n",
       "      <td>1</td>\n",
       "      <td>0</td>\n",
       "      <td>3</td>\n",
       "      <td>2</td>\n",
       "      <td>1</td>\n",
       "    </tr>\n",
       "  </tbody>\n",
       "</table>\n",
       "<p>1414 rows × 20 columns</p>\n",
       "</div>"
      ],
      "text/plain": [
       "     A1_Score  A2_Score  A3_Score  A4_Score  A5_Score  A6_Score  A7_Score  \\\n",
       "0           1         1         0         0         1         1         0   \n",
       "1           1         1         0         0         1         1         0   \n",
       "2           1         1         0         0         0         1         1   \n",
       "3           0         1         0         0         1         1         0   \n",
       "5           0         0         1         0         1         1         0   \n",
       "..        ...       ...       ...       ...       ...       ...       ...   \n",
       "478         1         1         1         1         1         1         1   \n",
       "270         0         1         1         1         1         1         0   \n",
       "285         0         1         0         1         1         1         1   \n",
       "10          1         0         0         0         1         1         1   \n",
       "599         1         1         1         1         1         1         1   \n",
       "\n",
       "     A8_Score  A9_Score  A10_Score  Age Grp age gender ethnicity jundice  \\\n",
       "0           1         0          0        1   6      1         0       0   \n",
       "1           1         0          0        1   6      1         1       0   \n",
       "2           1         0          0        1   6      1         2       0   \n",
       "3           0         0          1        1   5      0         2       1   \n",
       "5           1         0          1        1   4      1         2       0   \n",
       "..        ...       ...        ...      ...  ..    ...       ...     ...   \n",
       "478         1         1          1        3  33      0         2       0   \n",
       "270         1         0          1        1   4      1         5       0   \n",
       "285         1         1          1        1  10      0         2       0   \n",
       "10          1         1          1        1  10      1         2       1   \n",
       "599         0         1          1        3  60      0         2       0   \n",
       "\n",
       "    austim used_app_before age_desc relation Class/ASD  \n",
       "0        0               0        0        0         0  \n",
       "1        0               0        0        0         0  \n",
       "2        0               1        0        1         0  \n",
       "3        0               0        0        1         0  \n",
       "5        1               0        0        1         0  \n",
       "..     ...             ...      ...      ...       ...  \n",
       "478      1               0        3        1         1  \n",
       "270      0               0        0        0         1  \n",
       "285      0               0        0        3         1  \n",
       "10       0               0        0        1         1  \n",
       "599      1               0        3        2         1  \n",
       "\n",
       "[1414 rows x 20 columns]"
      ]
     },
     "execution_count": 46,
     "metadata": {},
     "output_type": "execute_result"
    }
   ],
   "source": [
    "upSample\n",
    "finalBalance = pd.concat([majority, upSample])\n",
    "finalBalance[\"Class/ASD\"].value_counts()\n",
    "finalBalance"
   ]
  },
  {
   "cell_type": "code",
   "execution_count": 47,
   "id": "75b6d4ec",
   "metadata": {},
   "outputs": [
    {
     "data": {
      "text/html": [
       "<div>\n",
       "<style scoped>\n",
       "    .dataframe tbody tr th:only-of-type {\n",
       "        vertical-align: middle;\n",
       "    }\n",
       "\n",
       "    .dataframe tbody tr th {\n",
       "        vertical-align: top;\n",
       "    }\n",
       "\n",
       "    .dataframe thead th {\n",
       "        text-align: right;\n",
       "    }\n",
       "</style>\n",
       "<table border=\"1\" class=\"dataframe\">\n",
       "  <thead>\n",
       "    <tr style=\"text-align: right;\">\n",
       "      <th></th>\n",
       "      <th>A1_Score</th>\n",
       "      <th>A2_Score</th>\n",
       "      <th>A3_Score</th>\n",
       "      <th>A4_Score</th>\n",
       "      <th>A5_Score</th>\n",
       "      <th>A6_Score</th>\n",
       "      <th>A7_Score</th>\n",
       "      <th>A8_Score</th>\n",
       "      <th>A9_Score</th>\n",
       "      <th>A10_Score</th>\n",
       "      <th>Age Grp</th>\n",
       "      <th>age</th>\n",
       "      <th>gender</th>\n",
       "      <th>ethnicity</th>\n",
       "      <th>jundice</th>\n",
       "      <th>austim</th>\n",
       "      <th>used_app_before</th>\n",
       "      <th>age_desc</th>\n",
       "      <th>relation</th>\n",
       "      <th>Class/ASD</th>\n",
       "    </tr>\n",
       "  </thead>\n",
       "  <tbody>\n",
       "    <tr>\n",
       "      <th>0</th>\n",
       "      <td>1</td>\n",
       "      <td>1</td>\n",
       "      <td>0</td>\n",
       "      <td>0</td>\n",
       "      <td>1</td>\n",
       "      <td>1</td>\n",
       "      <td>0</td>\n",
       "      <td>1</td>\n",
       "      <td>0</td>\n",
       "      <td>0</td>\n",
       "      <td>1</td>\n",
       "      <td>6</td>\n",
       "      <td>1</td>\n",
       "      <td>0</td>\n",
       "      <td>0</td>\n",
       "      <td>0</td>\n",
       "      <td>0</td>\n",
       "      <td>0</td>\n",
       "      <td>0</td>\n",
       "      <td>0</td>\n",
       "    </tr>\n",
       "    <tr>\n",
       "      <th>1</th>\n",
       "      <td>1</td>\n",
       "      <td>1</td>\n",
       "      <td>0</td>\n",
       "      <td>0</td>\n",
       "      <td>1</td>\n",
       "      <td>1</td>\n",
       "      <td>0</td>\n",
       "      <td>1</td>\n",
       "      <td>0</td>\n",
       "      <td>0</td>\n",
       "      <td>1</td>\n",
       "      <td>6</td>\n",
       "      <td>1</td>\n",
       "      <td>1</td>\n",
       "      <td>0</td>\n",
       "      <td>0</td>\n",
       "      <td>0</td>\n",
       "      <td>0</td>\n",
       "      <td>0</td>\n",
       "      <td>0</td>\n",
       "    </tr>\n",
       "    <tr>\n",
       "      <th>2</th>\n",
       "      <td>1</td>\n",
       "      <td>1</td>\n",
       "      <td>0</td>\n",
       "      <td>0</td>\n",
       "      <td>0</td>\n",
       "      <td>1</td>\n",
       "      <td>1</td>\n",
       "      <td>1</td>\n",
       "      <td>0</td>\n",
       "      <td>0</td>\n",
       "      <td>1</td>\n",
       "      <td>6</td>\n",
       "      <td>1</td>\n",
       "      <td>2</td>\n",
       "      <td>0</td>\n",
       "      <td>0</td>\n",
       "      <td>1</td>\n",
       "      <td>0</td>\n",
       "      <td>1</td>\n",
       "      <td>0</td>\n",
       "    </tr>\n",
       "    <tr>\n",
       "      <th>3</th>\n",
       "      <td>0</td>\n",
       "      <td>1</td>\n",
       "      <td>0</td>\n",
       "      <td>0</td>\n",
       "      <td>1</td>\n",
       "      <td>1</td>\n",
       "      <td>0</td>\n",
       "      <td>0</td>\n",
       "      <td>0</td>\n",
       "      <td>1</td>\n",
       "      <td>1</td>\n",
       "      <td>5</td>\n",
       "      <td>0</td>\n",
       "      <td>2</td>\n",
       "      <td>1</td>\n",
       "      <td>0</td>\n",
       "      <td>0</td>\n",
       "      <td>0</td>\n",
       "      <td>1</td>\n",
       "      <td>0</td>\n",
       "    </tr>\n",
       "    <tr>\n",
       "      <th>5</th>\n",
       "      <td>0</td>\n",
       "      <td>0</td>\n",
       "      <td>1</td>\n",
       "      <td>0</td>\n",
       "      <td>1</td>\n",
       "      <td>1</td>\n",
       "      <td>0</td>\n",
       "      <td>1</td>\n",
       "      <td>0</td>\n",
       "      <td>1</td>\n",
       "      <td>1</td>\n",
       "      <td>4</td>\n",
       "      <td>1</td>\n",
       "      <td>2</td>\n",
       "      <td>0</td>\n",
       "      <td>1</td>\n",
       "      <td>0</td>\n",
       "      <td>0</td>\n",
       "      <td>1</td>\n",
       "      <td>0</td>\n",
       "    </tr>\n",
       "    <tr>\n",
       "      <th>...</th>\n",
       "      <td>...</td>\n",
       "      <td>...</td>\n",
       "      <td>...</td>\n",
       "      <td>...</td>\n",
       "      <td>...</td>\n",
       "      <td>...</td>\n",
       "      <td>...</td>\n",
       "      <td>...</td>\n",
       "      <td>...</td>\n",
       "      <td>...</td>\n",
       "      <td>...</td>\n",
       "      <td>...</td>\n",
       "      <td>...</td>\n",
       "      <td>...</td>\n",
       "      <td>...</td>\n",
       "      <td>...</td>\n",
       "      <td>...</td>\n",
       "      <td>...</td>\n",
       "      <td>...</td>\n",
       "      <td>...</td>\n",
       "    </tr>\n",
       "    <tr>\n",
       "      <th>478</th>\n",
       "      <td>1</td>\n",
       "      <td>1</td>\n",
       "      <td>1</td>\n",
       "      <td>1</td>\n",
       "      <td>1</td>\n",
       "      <td>1</td>\n",
       "      <td>1</td>\n",
       "      <td>1</td>\n",
       "      <td>1</td>\n",
       "      <td>1</td>\n",
       "      <td>3</td>\n",
       "      <td>33</td>\n",
       "      <td>0</td>\n",
       "      <td>2</td>\n",
       "      <td>0</td>\n",
       "      <td>1</td>\n",
       "      <td>0</td>\n",
       "      <td>3</td>\n",
       "      <td>1</td>\n",
       "      <td>1</td>\n",
       "    </tr>\n",
       "    <tr>\n",
       "      <th>270</th>\n",
       "      <td>0</td>\n",
       "      <td>1</td>\n",
       "      <td>1</td>\n",
       "      <td>1</td>\n",
       "      <td>1</td>\n",
       "      <td>1</td>\n",
       "      <td>0</td>\n",
       "      <td>1</td>\n",
       "      <td>0</td>\n",
       "      <td>1</td>\n",
       "      <td>1</td>\n",
       "      <td>4</td>\n",
       "      <td>1</td>\n",
       "      <td>5</td>\n",
       "      <td>0</td>\n",
       "      <td>0</td>\n",
       "      <td>0</td>\n",
       "      <td>0</td>\n",
       "      <td>0</td>\n",
       "      <td>1</td>\n",
       "    </tr>\n",
       "    <tr>\n",
       "      <th>285</th>\n",
       "      <td>0</td>\n",
       "      <td>1</td>\n",
       "      <td>0</td>\n",
       "      <td>1</td>\n",
       "      <td>1</td>\n",
       "      <td>1</td>\n",
       "      <td>1</td>\n",
       "      <td>1</td>\n",
       "      <td>1</td>\n",
       "      <td>1</td>\n",
       "      <td>1</td>\n",
       "      <td>10</td>\n",
       "      <td>0</td>\n",
       "      <td>2</td>\n",
       "      <td>0</td>\n",
       "      <td>0</td>\n",
       "      <td>0</td>\n",
       "      <td>0</td>\n",
       "      <td>3</td>\n",
       "      <td>1</td>\n",
       "    </tr>\n",
       "    <tr>\n",
       "      <th>10</th>\n",
       "      <td>1</td>\n",
       "      <td>0</td>\n",
       "      <td>0</td>\n",
       "      <td>0</td>\n",
       "      <td>1</td>\n",
       "      <td>1</td>\n",
       "      <td>1</td>\n",
       "      <td>1</td>\n",
       "      <td>1</td>\n",
       "      <td>1</td>\n",
       "      <td>1</td>\n",
       "      <td>10</td>\n",
       "      <td>1</td>\n",
       "      <td>2</td>\n",
       "      <td>1</td>\n",
       "      <td>0</td>\n",
       "      <td>0</td>\n",
       "      <td>0</td>\n",
       "      <td>1</td>\n",
       "      <td>1</td>\n",
       "    </tr>\n",
       "    <tr>\n",
       "      <th>599</th>\n",
       "      <td>1</td>\n",
       "      <td>1</td>\n",
       "      <td>1</td>\n",
       "      <td>1</td>\n",
       "      <td>1</td>\n",
       "      <td>1</td>\n",
       "      <td>1</td>\n",
       "      <td>0</td>\n",
       "      <td>1</td>\n",
       "      <td>1</td>\n",
       "      <td>3</td>\n",
       "      <td>60</td>\n",
       "      <td>0</td>\n",
       "      <td>2</td>\n",
       "      <td>0</td>\n",
       "      <td>1</td>\n",
       "      <td>0</td>\n",
       "      <td>3</td>\n",
       "      <td>2</td>\n",
       "      <td>1</td>\n",
       "    </tr>\n",
       "  </tbody>\n",
       "</table>\n",
       "<p>1414 rows × 20 columns</p>\n",
       "</div>"
      ],
      "text/plain": [
       "     A1_Score  A2_Score  A3_Score  A4_Score  A5_Score  A6_Score  A7_Score  \\\n",
       "0           1         1         0         0         1         1         0   \n",
       "1           1         1         0         0         1         1         0   \n",
       "2           1         1         0         0         0         1         1   \n",
       "3           0         1         0         0         1         1         0   \n",
       "5           0         0         1         0         1         1         0   \n",
       "..        ...       ...       ...       ...       ...       ...       ...   \n",
       "478         1         1         1         1         1         1         1   \n",
       "270         0         1         1         1         1         1         0   \n",
       "285         0         1         0         1         1         1         1   \n",
       "10          1         0         0         0         1         1         1   \n",
       "599         1         1         1         1         1         1         1   \n",
       "\n",
       "     A8_Score  A9_Score  A10_Score  Age Grp age gender ethnicity jundice  \\\n",
       "0           1         0          0        1   6      1         0       0   \n",
       "1           1         0          0        1   6      1         1       0   \n",
       "2           1         0          0        1   6      1         2       0   \n",
       "3           0         0          1        1   5      0         2       1   \n",
       "5           1         0          1        1   4      1         2       0   \n",
       "..        ...       ...        ...      ...  ..    ...       ...     ...   \n",
       "478         1         1          1        3  33      0         2       0   \n",
       "270         1         0          1        1   4      1         5       0   \n",
       "285         1         1          1        1  10      0         2       0   \n",
       "10          1         1          1        1  10      1         2       1   \n",
       "599         0         1          1        3  60      0         2       0   \n",
       "\n",
       "    austim used_app_before age_desc relation Class/ASD  \n",
       "0        0               0        0        0         0  \n",
       "1        0               0        0        0         0  \n",
       "2        0               1        0        1         0  \n",
       "3        0               0        0        1         0  \n",
       "5        1               0        0        1         0  \n",
       "..     ...             ...      ...      ...       ...  \n",
       "478      1               0        3        1         1  \n",
       "270      0               0        0        0         1  \n",
       "285      0               0        0        3         1  \n",
       "10       0               0        0        1         1  \n",
       "599      1               0        3        2         1  \n",
       "\n",
       "[1414 rows x 20 columns]"
      ]
     },
     "execution_count": 47,
     "metadata": {},
     "output_type": "execute_result"
    }
   ],
   "source": [
    "# Type of columns\n",
    "finalBalance"
   ]
  },
  {
   "cell_type": "code",
   "execution_count": 48,
   "id": "c776597a",
   "metadata": {},
   "outputs": [
    {
     "name": "stdout",
     "output_type": "stream",
     "text": [
      "<class 'pandas.core.frame.DataFrame'>\n",
      "Int64Index: 1414 entries, 0 to 599\n",
      "Data columns (total 20 columns):\n",
      " #   Column           Non-Null Count  Dtype   \n",
      "---  ------           --------------  -----   \n",
      " 0   A1_Score         1414 non-null   int64   \n",
      " 1   A2_Score         1414 non-null   int64   \n",
      " 2   A3_Score         1414 non-null   int64   \n",
      " 3   A4_Score         1414 non-null   int64   \n",
      " 4   A5_Score         1414 non-null   int64   \n",
      " 5   A6_Score         1414 non-null   int64   \n",
      " 6   A7_Score         1414 non-null   int64   \n",
      " 7   A8_Score         1414 non-null   int64   \n",
      " 8   A9_Score         1414 non-null   int64   \n",
      " 9   A10_Score        1414 non-null   int64   \n",
      " 10  Age Grp          1414 non-null   int64   \n",
      " 11  age              1414 non-null   object  \n",
      " 12  gender           1414 non-null   category\n",
      " 13  ethnicity        1414 non-null   category\n",
      " 14  jundice          1414 non-null   category\n",
      " 15  austim           1414 non-null   category\n",
      " 16  used_app_before  1414 non-null   category\n",
      " 17  age_desc         1414 non-null   category\n",
      " 18  relation         1414 non-null   category\n",
      " 19  Class/ASD        1414 non-null   category\n",
      "dtypes: category(8), int64(11), object(1)\n",
      "memory usage: 156.1+ KB\n"
     ]
    }
   ],
   "source": [
    "finalBalance.info()"
   ]
  },
  {
   "cell_type": "markdown",
   "id": "3edcf869",
   "metadata": {},
   "source": [
    "---"
   ]
  },
  {
   "cell_type": "markdown",
   "id": "72a57508",
   "metadata": {},
   "source": [
    "# 3. Build predictive model\n",
    "#### Naïve Bayes/Regression/Decision tree/SVM/ neuralNW"
   ]
  },
  {
   "cell_type": "markdown",
   "id": "7b78b43e",
   "metadata": {},
   "source": [
    "#### Distributing Data into Train and test sets"
   ]
  },
  {
   "cell_type": "code",
   "execution_count": 49,
   "id": "9af1ce52",
   "metadata": {},
   "outputs": [
    {
     "name": "stdout",
     "output_type": "stream",
     "text": [
      "[[1 0 0 ... 0 0 0]\n",
      " [1 0 0 ... 0 0 0]\n",
      " [1 0 0 ... 1 0 1]\n",
      " ...\n",
      " [1 0 1 ... 0 0 3]\n",
      " [0 0 0 ... 0 0 1]\n",
      " [1 1 1 ... 0 3 2]]\n"
     ]
    }
   ],
   "source": [
    "# X = To be trained dataset\n",
    "X = finalBalance.iloc[:, 1:-1].values\n",
    "\n",
    "# Y = Target to be tested dataset = Class/ASD\n",
    "y = finalBalance.iloc[:, -1].values\n",
    "\n",
    "print(X)"
   ]
  },
  {
   "cell_type": "markdown",
   "id": "f9b0d588",
   "metadata": {},
   "source": [
    "#### Data Transformation - Min Max Normalization"
   ]
  },
  {
   "cell_type": "code",
   "execution_count": 50,
   "id": "c23f5e0a",
   "metadata": {},
   "outputs": [],
   "source": [
    "mms = MinMaxScaler()\n",
    "X = mms.fit_transform(X)"
   ]
  },
  {
   "attachments": {},
   "cell_type": "markdown",
   "id": "9d9c595f",
   "metadata": {},
   "source": [
    "---"
   ]
  },
  {
   "cell_type": "code",
   "execution_count": 51,
   "id": "cc523196",
   "metadata": {},
   "outputs": [
    {
     "data": {
      "text/plain": [
       "PCA()"
      ]
     },
     "execution_count": 51,
     "metadata": {},
     "output_type": "execute_result"
    }
   ],
   "source": [
    "# no riks\n",
    "new_Finale_datae = finalBalance.copy()\n",
    "\n",
    "from sklearn.decomposition import PCA\n",
    "components = None\n",
    "pca = PCA(n_components = components)\n",
    "# perform PCA on the scaled data\n",
    "pca.fit(X)"
   ]
  },
  {
   "cell_type": "code",
   "execution_count": 52,
   "id": "f053d7f3",
   "metadata": {},
   "outputs": [
    {
     "name": "stdout",
     "output_type": "stream",
     "text": [
      "Variances (Percentage):\n",
      "[25.14957953 12.43466481  8.75403346  7.4593294   6.93391556  6.18628872\n",
      "  5.47824004  5.086287    4.57602608  4.35032369  4.20183692  3.6422916\n",
      "  3.34087901  1.20035074  0.65571248  0.48081987  0.03784643  0.03157466]\n",
      "\n"
     ]
    }
   ],
   "source": [
    "# print the explained variances\n",
    "print(\"Variances (Percentage):\")\n",
    "print(pca.explained_variance_ratio_ * 100)\n",
    "print()"
   ]
  },
  {
   "cell_type": "code",
   "execution_count": 53,
   "id": "3c60a6e8",
   "metadata": {},
   "outputs": [
    {
     "name": "stdout",
     "output_type": "stream",
     "text": [
      "Cumulative Variances (Percentage):\n",
      "[ 25.14957953  37.58424434  46.3382778   53.7976072   60.73152276\n",
      "  66.91781149  72.39605153  77.48233853  82.0583646   86.40868829\n",
      "  90.61052521  94.25281681  97.59369582  98.79404656  99.44975904\n",
      "  99.93057891  99.96842534 100.        ]\n",
      "\n"
     ]
    }
   ],
   "source": [
    "print(\"Cumulative Variances (Percentage):\")\n",
    "print(pca.explained_variance_ratio_.cumsum() * 100)\n",
    "print()"
   ]
  },
  {
   "cell_type": "code",
   "execution_count": 54,
   "id": "6799d529",
   "metadata": {},
   "outputs": [
    {
     "data": {
      "text/plain": [
       "Text(0, 0.5, 'Explained variance (%)')"
      ]
     },
     "execution_count": 54,
     "metadata": {},
     "output_type": "execute_result"
    },
    {
     "data": {
      "image/png": "[encoded data removed]",
      "text/plain": [
       "<Figure size 720x720 with 1 Axes>"
      ]
     },
     "metadata": {
      "needs_background": "light"
     },
     "output_type": "display_data"
    }
   ],
   "source": [
    "# plot a scree plot\n",
    "components = len(pca.explained_variance_ratio_) \\\n",
    "    if components is None else components\n",
    "plt.plot(range(1,components+1), \n",
    "         np.cumsum(pca.explained_variance_ratio_ * 100))\n",
    "plt.xlabel(\"Number of components\")\n",
    "plt.ylabel(\"Explained variance (%)\")"
   ]
  },
  {
   "attachments": {},
   "cell_type": "markdown",
   "id": "1644524d",
   "metadata": {},
   "source": [
    "---"
   ]
  },
  {
   "cell_type": "code",
   "execution_count": 55,
   "id": "a2778aed",
   "metadata": {},
   "outputs": [],
   "source": [
    "# Data splitting\n",
    "#       - Training : Test = 70 : 30\n",
    "X_train, X_test, y_train, y_test = train_test_split(X, y, test_size = 0.90, random_state = 0)"
   ]
  },
  {
   "cell_type": "code",
   "execution_count": 56,
   "id": "6d91c91b",
   "metadata": {},
   "outputs": [
    {
     "name": "stdout",
     "output_type": "stream",
     "text": [
      "[1.         0.         0.         1.         1.         0.\n",
      " 1.         0.         0.         0.         0.00527704 1.\n",
      " 0.1        0.         0.         0.         0.         0.        ] 0\n"
     ]
    }
   ],
   "source": [
    "print(X[1], y[1])"
   ]
  },
  {
   "cell_type": "markdown",
   "id": "0c3b7ae7",
   "metadata": {},
   "source": [
    "## Naïve Bayes"
   ]
  },
  {
   "cell_type": "code",
   "execution_count": 57,
   "id": "73ec8b2e",
   "metadata": {
    "scrolled": true
   },
   "outputs": [
    {
     "name": "stdout",
     "output_type": "stream",
     "text": [
      "Predicting one record to check the Naïve Bayes model\n",
      "Desired Prediction = 0, Actual Prediction = [1]\n",
      "Train -> 80.851%\n",
      "Test -> 78.162%\n",
      "K-Fold Cross Validation -> 81.619%\n",
      "\n",
      "******************************\n",
      "\n",
      "[[377 263]\n",
      " [ 15 618]]\n"
     ]
    }
   ],
   "source": [
    "modelValues(GaussianNB(), \"Naïve Bayes\", X_train, y_train)"
   ]
  },
  {
   "cell_type": "markdown",
   "id": "f822ff36",
   "metadata": {},
   "source": [
    "## Logistic Regression"
   ]
  },
  {
   "cell_type": "markdown",
   "id": "dfa57196",
   "metadata": {},
   "source": [
    "#### Regression should not be used since it is used for continuos data and data selected here is discrete\n",
    "#### But it can still be used in exceptional cases, below is result of Logistic regression model"
   ]
  },
  {
   "cell_type": "code",
   "execution_count": 58,
   "id": "cb4caba9",
   "metadata": {},
   "outputs": [
    {
     "name": "stdout",
     "output_type": "stream",
     "text": [
      "Predicting one record to check the Logistic Regression model\n",
      "Desired Prediction = 0, Actual Prediction = [0]\n",
      "Train -> 97.163%\n",
      "Test -> 94.423%\n",
      "K-Fold Cross Validation -> 95.000%\n",
      "\n",
      "******************************\n",
      "\n",
      "[[582  58]\n",
      " [ 13 620]]\n"
     ]
    }
   ],
   "source": [
    "modelValues(LogisticRegression(), \"Logistic Regression\", X_train, y_train)"
   ]
  },
  {
   "cell_type": "markdown",
   "id": "375d491b",
   "metadata": {},
   "source": [
    "## Decision tree"
   ]
  },
  {
   "cell_type": "code",
   "execution_count": 59,
   "id": "a3635f01",
   "metadata": {},
   "outputs": [
    {
     "name": "stdout",
     "output_type": "stream",
     "text": [
      "Predicting one record to check the Decision Tree model\n",
      "Desired Prediction = 0, Actual Prediction = [1]\n",
      "Train -> 100.000%\n",
      "Test -> 84.446%\n",
      "K-Fold Cross Validation -> 80.857%\n",
      "\n",
      "******************************\n",
      "\n",
      "[[506 134]\n",
      " [ 64 569]]\n"
     ]
    }
   ],
   "source": [
    "# Classifier value by default is set to DecisionTreeClassifier()\n",
    "# ------ So no need to give value in below code line\n",
    "modelValues(model_name = \"Decision Tree\", X = X_train, y = y_train)"
   ]
  },
  {
   "attachments": {},
   "cell_type": "markdown",
   "id": "581eaa2d",
   "metadata": {},
   "source": [
    "## SVC"
   ]
  },
  {
   "cell_type": "code",
   "execution_count": 60,
   "id": "53cc45d7",
   "metadata": {},
   "outputs": [
    {
     "name": "stdout",
     "output_type": "stream",
     "text": [
      "Predicting one record to check the Support Vector Classifier model\n",
      "Desired Prediction = 0, Actual Prediction = [0]\n",
      "Train -> 98.582%\n",
      "Test -> 93.716%\n",
      "K-Fold Cross Validation -> 95.000%\n",
      "\n",
      "******************************\n",
      "\n",
      "[[576  64]\n",
      " [ 16 617]]\n"
     ]
    }
   ],
   "source": [
    "modelValues(SVC(), \"Support Vector Classifier\", X_train, y_train)"
   ]
  },
  {
   "cell_type": "code",
   "execution_count": 61,
   "id": "03cf8c1c",
   "metadata": {},
   "outputs": [
    {
     "name": "stdout",
     "output_type": "stream",
     "text": [
      "Logistic Regression\n"
     ]
    }
   ],
   "source": [
    "# Best model based on test data\n",
    "bestBaseModel = max(test_percent, key = test_percent.get)\n",
    "print(bestBaseModel)"
   ]
  },
  {
   "cell_type": "code",
   "execution_count": 62,
   "id": "db352733",
   "metadata": {},
   "outputs": [],
   "source": [
    "# bestBaseModel?"
   ]
  },
  {
   "cell_type": "markdown",
   "id": "41a73320",
   "metadata": {},
   "source": [
    "---"
   ]
  },
  {
   "cell_type": "markdown",
   "id": "1d32bf80",
   "metadata": {},
   "source": [
    "# 4. Build enhanced model for improving performance\n",
    "#### Boosting/Boosting variants/Bagging/Random Forest/regression variants"
   ]
  },
  {
   "cell_type": "markdown",
   "id": "360df1fb",
   "metadata": {},
   "source": [
    "## Random Forest"
   ]
  },
  {
   "cell_type": "code",
   "execution_count": 63,
   "id": "56583027",
   "metadata": {},
   "outputs": [
    {
     "name": "stdout",
     "output_type": "stream",
     "text": [
      "Predicting one record to check the Random Forest model\n",
      "Desired Prediction = 0, Actual Prediction = [0]\n",
      "Train -> 100.000%\n",
      "Test -> 91.438%\n",
      "K-Fold Cross Validation -> 92.238%\n",
      "\n",
      "******************************\n",
      "\n",
      "[[558  82]\n",
      " [ 27 606]]\n"
     ]
    }
   ],
   "source": [
    "modelValues(RandomForestClassifier(n_estimators = 50, bootstrap = False, max_depth = 10, \n",
    "            random_state = 50), \"Random Forest\", X_train, y_train, 'boost')"
   ]
  },
  {
   "attachments": {},
   "cell_type": "markdown",
   "id": "f9899df4",
   "metadata": {},
   "source": [
    "##### Parameter Tuning for optimal parameters for best model\n",
    "Uncomment from p_test to tuning.cv_results line to enable Hyper Parameter Tuning"
   ]
  },
  {
   "cell_type": "code",
   "execution_count": 64,
   "id": "56ff3a60",
   "metadata": {},
   "outputs": [],
   "source": [
    "# Hyper Parameter Tuning\n",
    "\n",
    "# p_test = {'n_estimators' : [100, 250, 500, 750, 1000, 1250, 1500, 1750],\n",
    "#          'max_depth':[3, 4, 5, 6, 7, 8, 9, 10], 'bootstrap':[True, False]}\n",
    "# tuning = GridSearchCV(estimator = RandomForestClassifier(random_state = 50), \n",
    "#                      param_grid = p_test, scoring = 'accuracy', n_jobs = 4, cv = 5)\n",
    "# tuning.fit(X_train,y_train)\n",
    "# tuning.cv_results_['mean_test_score'], tuning.best_params_, tuning.best_score_\n",
    "\n",
    "# Best param = n_estimators : 500, max_depth : 3, bootstrap : True"
   ]
  },
  {
   "cell_type": "code",
   "execution_count": 65,
   "id": "3a172963",
   "metadata": {},
   "outputs": [
    {
     "name": "stdout",
     "output_type": "stream",
     "text": [
      "Predicting one record to check the Random Forest model\n",
      "Desired Prediction = 0, Actual Prediction = [0]\n",
      "Train -> 97.163%\n",
      "Test -> 91.123%\n",
      "K-Fold Cross Validation -> 89.381%\n",
      "\n",
      "******************************\n",
      "\n",
      "[[541  99]\n",
      " [ 14 619]]\n"
     ]
    }
   ],
   "source": [
    "modelValues(RandomForestClassifier(n_estimators = 500, max_depth = 3, bootstrap = True, \n",
    "                                   random_state = 50), \"Random Forest\", X_train, y_train, 'boost')"
   ]
  },
  {
   "cell_type": "markdown",
   "id": "c56bd7d6",
   "metadata": {},
   "source": [
    "## XG Boost"
   ]
  },
  {
   "cell_type": "code",
   "execution_count": 66,
   "id": "fc98b8f6",
   "metadata": {},
   "outputs": [
    {
     "name": "stdout",
     "output_type": "stream",
     "text": [
      "Predicting one record to check the XG Boost model\n",
      "Desired Prediction = 0, Actual Prediction = [0]\n",
      "Train -> 95.035%\n",
      "Test -> 87.903%\n",
      "K-Fold Cross Validation -> 87.190%\n",
      "\n",
      "******************************\n",
      "\n",
      "[[528 112]\n",
      " [ 42 591]]\n"
     ]
    }
   ],
   "source": [
    "modelValues(XGBClassifier(n_estimators = 50, random_state = 50, learning_rate = 0.01, max_depth = 10,\n",
    "                          verbosity = 0), \"XG Boost\", X_train, y_train, 'boost')"
   ]
  },
  {
   "cell_type": "markdown",
   "id": "d5d548da",
   "metadata": {},
   "source": [
    "##### Parameter Tuning for optimal parameters for best model"
   ]
  },
  {
   "cell_type": "code",
   "execution_count": 67,
   "id": "b1c1d6e8",
   "metadata": {},
   "outputs": [],
   "source": [
    "# Hyper Parameter Tuning\n",
    "\n",
    "# p_test1 = {'max_depth':[3, 4, 5, 6, 7, 8, 9, 10],\n",
    "#           'n_estimators' : [100, 250, 500, 750, 1000, 1250, 1500, 1750], \n",
    "#           'learning_rate' : [0.3, 0.25, 0.20, 0.15, 0.1, 0.05, 0.01, 0.005, 0.001]}\n",
    "# tuning = GridSearchCV(estimator = XGBClassifier(random_state = 50), \n",
    "#                      param_grid = p_test1, scoring = 'accuracy', n_jobs = 4, cv = 5)\n",
    "# tuning.fit(X_train,y_train)\n",
    "# tuning.cv_results_['mean_test_score'], tuning.best_params_, tuning.best_score_\n",
    "\n",
    "# Best param = max_depth : 3, n_estimators : 1000, learning_rate : 0.15"
   ]
  },
  {
   "cell_type": "code",
   "execution_count": 68,
   "id": "a4de3703",
   "metadata": {},
   "outputs": [
    {
     "name": "stdout",
     "output_type": "stream",
     "text": [
      "Predicting one record to check the XG Boost model\n",
      "Desired Prediction = 0, Actual Prediction = [0]\n",
      "Train -> 100.000%\n",
      "Test -> 92.066%\n",
      "K-Fold Cross Validation -> 91.476%\n",
      "\n",
      "******************************\n",
      "\n",
      "[[560  80]\n",
      " [ 21 612]]\n"
     ]
    }
   ],
   "source": [
    "modelValues(XGBClassifier(max_depth = 3, n_estimators = 1000, learning_rate = 0.15,\n",
    "                          verbosity = 0, random_state = 50), \"XG Boost\", X_train, y_train, 'boost')"
   ]
  },
  {
   "cell_type": "markdown",
   "id": "e2f817a2",
   "metadata": {},
   "source": [
    "## Gradient Boosting"
   ]
  },
  {
   "cell_type": "code",
   "execution_count": 69,
   "id": "077f0042",
   "metadata": {},
   "outputs": [
    {
     "name": "stdout",
     "output_type": "stream",
     "text": [
      "Predicting one record to check the Gradient Boosting model\n",
      "Desired Prediction = 0, Actual Prediction = [1]\n",
      "Train -> 100.000%\n",
      "Test -> 84.132%\n",
      "K-Fold Cross Validation -> 83.000%\n",
      "\n",
      "******************************\n",
      "\n",
      "[[496 144]\n",
      " [ 58 575]]\n"
     ]
    }
   ],
   "source": [
    "modelValues(GradientBoostingClassifier(n_estimators = 50, random_state = 50, learning_rate = 0.01, max_depth = 10),\n",
    "            \"Gradient Boosting\", X_train, y_train, 'boost')"
   ]
  },
  {
   "cell_type": "markdown",
   "id": "2a17c04d",
   "metadata": {},
   "source": [
    "##### Parameter Tuning for optimal parameters for best model"
   ]
  },
  {
   "cell_type": "code",
   "execution_count": 70,
   "id": "45933ec2",
   "metadata": {},
   "outputs": [],
   "source": [
    "# Hyper Parameter Tuning\n",
    "\n",
    "# p_test = {'n_estimators' : [100, 250, 500, 750, 1000, 1250, 1500, 1750],\n",
    "#          'learning_rate' : [0.3, 0.25, 0.20, 0.15, 0.1, 0.05, 0.01, 0.005, 0.001],\n",
    "#          'max_depth':[3, 4, 5, 6, 7, 8, 9, 10]}\n",
    "# tuning = GridSearchCV(estimator = GradientBoostingClassifier( max_depth = 4, min_samples_split = 2, min_samples_leaf = 1, \n",
    "#                                                             subsample = 1,max_features = 'sqrt', random_state = 10), \n",
    "#                      param_grid = p_test, scoring = 'accuracy', n_jobs = 4, cv = 5)\n",
    "# tuning.fit(X_train,y_train)\n",
    "# tuning.cv_results_['mean_test_score'], tuning.best_params_, tuning.best_score_\n",
    "\n",
    "# Best param = n_estimators: 100, learning_rate: 0.3, max_depth : 3"
   ]
  },
  {
   "cell_type": "code",
   "execution_count": 71,
   "id": "582e6801",
   "metadata": {},
   "outputs": [
    {
     "name": "stdout",
     "output_type": "stream",
     "text": [
      "Predicting one record to check the Gradient Boosting model\n",
      "Desired Prediction = 0, Actual Prediction = [0]\n",
      "Train -> 100.000%\n",
      "Test -> 89.081%\n",
      "K-Fold Cross Validation -> 91.429%\n",
      "\n",
      "******************************\n",
      "\n",
      "[[531 109]\n",
      " [ 30 603]]\n"
     ]
    }
   ],
   "source": [
    "modelValues(GradientBoostingClassifier(n_estimators = 100, random_state = 50, learning_rate = 0.3, max_depth = 3),\n",
    "            \"Gradient Boosting\", X_train, y_train, 'boost')"
   ]
  },
  {
   "cell_type": "markdown",
   "id": "384aa346",
   "metadata": {},
   "source": [
    "## ADA Boost"
   ]
  },
  {
   "cell_type": "code",
   "execution_count": 72,
   "id": "91cd8314",
   "metadata": {},
   "outputs": [
    {
     "name": "stdout",
     "output_type": "stream",
     "text": [
      "Predicting one record to check the AdaBoost model\n",
      "Desired Prediction = 0, Actual Prediction = [0]\n",
      "Train -> 93.617%\n",
      "Test -> 91.909%\n",
      "K-Fold Cross Validation -> 92.905%\n",
      "\n",
      "******************************\n",
      "\n",
      "[[561  79]\n",
      " [ 24 609]]\n"
     ]
    }
   ],
   "source": [
    "modelValues(AdaBoostClassifier(base_estimator = baseModels[bestBaseModel], n_estimators = 50, random_state = 50,\n",
    "                               learning_rate = 0.01, algorithm = 'SAMME'),\n",
    "            \"AdaBoost\", X_train, y_train, 'boost')"
   ]
  },
  {
   "cell_type": "code",
   "execution_count": 73,
   "id": "19e71463",
   "metadata": {},
   "outputs": [],
   "source": [
    "# Hyper Parameter Tuning\n",
    "\n",
    "# p_test = {'n_estimators' : [100, 250, 500, 750, 1000, 1250, 1500, 1750],\n",
    "#          'learning_rate' : [0.3, 0.25, 0.20, 0.15, 0.1, 0.05, 0.01, 0.005, 0.001]}\n",
    "# tuning = GridSearchCV(estimator = AdaBoostClassifier(), param_grid = p_test, scoring = 'accuracy', n_jobs = 4, cv = 5)\n",
    "# tuning.fit(X_train,y_train)\n",
    "# tuning.cv_results_['mean_test_score'], tuning.best_params_, tuning.best_score_\n",
    "\n",
    "# Best param = n_estimators: 250, learning_rate: 0.3"
   ]
  },
  {
   "cell_type": "code",
   "execution_count": 74,
   "id": "1dd2860f",
   "metadata": {},
   "outputs": [
    {
     "name": "stdout",
     "output_type": "stream",
     "text": [
      "Predicting one record to check the AdaBoost model\n",
      "Desired Prediction = 0, Actual Prediction = [0]\n",
      "Train -> 100.000%\n",
      "Test -> 93.480%\n",
      "K-Fold Cross Validation -> 97.143%\n",
      "\n",
      "******************************\n",
      "\n",
      "[[589  51]\n",
      " [ 32 601]]\n"
     ]
    }
   ],
   "source": [
    "modelValues(AdaBoostClassifier(base_estimator = baseModels[bestBaseModel], n_estimators = 250, random_state = 50,\n",
    "                               learning_rate = 0.3, algorithm = 'SAMME'),\n",
    "            \"AdaBoost\", X_train, y_train, 'boost')"
   ]
  },
  {
   "cell_type": "markdown",
   "id": "35cf5be5",
   "metadata": {},
   "source": [
    "## Bagging Classifier"
   ]
  },
  {
   "cell_type": "code",
   "execution_count": 75,
   "id": "abe5214c",
   "metadata": {},
   "outputs": [
    {
     "name": "stdout",
     "output_type": "stream",
     "text": [
      "Predicting one record to check the Bagging model\n",
      "Desired Prediction = 0, Actual Prediction = [0]\n",
      "Train -> 95.745%\n",
      "Test -> 94.973%\n",
      "K-Fold Cross Validation -> 95.000%\n",
      "\n",
      "******************************\n",
      "\n",
      "[[580  60]\n",
      " [  4 629]]\n"
     ]
    }
   ],
   "source": [
    "modelValues(BaggingClassifier(base_estimator = baseModels[bestBaseModel], n_estimators = 50, random_state = 50), \n",
    "            \"Bagging\", X_train, y_train, 'boost')"
   ]
  },
  {
   "cell_type": "code",
   "execution_count": 76,
   "id": "12d3643c",
   "metadata": {},
   "outputs": [],
   "source": [
    "# Hyper Parameter Tuning\n",
    "\n",
    "# n_estimators\n",
    "# p_test = {'n_estimators' : [100, 250, 500, 750, 1000, 1250, 1500, 1750]}\n",
    "# tuning = GridSearchCV(estimator = AdaBoostClassifier(), param_grid = p_test, scoring = 'accuracy', n_jobs = 4, cv = 5)\n",
    "# tuning.fit(X_train,y_train)\n",
    "# tuning.cv_results_['mean_test_score'], tuning.best_params_, tuning.best_score_\n",
    "\n",
    "# Best param = n_estimators: 100"
   ]
  },
  {
   "cell_type": "code",
   "execution_count": 77,
   "id": "110da702",
   "metadata": {},
   "outputs": [
    {
     "name": "stdout",
     "output_type": "stream",
     "text": [
      "Predicting one record to check the Bagging model\n",
      "Desired Prediction = 0, Actual Prediction = [0]\n",
      "Train -> 95.745%\n",
      "Test -> 94.737%\n",
      "K-Fold Cross Validation -> 95.000%\n",
      "\n",
      "******************************\n",
      "\n",
      "[[579  61]\n",
      " [  6 627]]\n"
     ]
    }
   ],
   "source": [
    "modelValues(BaggingClassifier(base_estimator = baseModels[bestBaseModel], n_estimators = 100, random_state = 50), \n",
    "            \"Bagging\", X_train, y_train, 'boost')"
   ]
  },
  {
   "cell_type": "code",
   "execution_count": 78,
   "id": "717d2287",
   "metadata": {},
   "outputs": [
    {
     "name": "stdout",
     "output_type": "stream",
     "text": [
      "Bagging\n"
     ]
    }
   ],
   "source": [
    "# Best model based on test data\n",
    "bestBoostModel = max(test_percent2, key = test_percent2.get)\n",
    "print(bestBoostModel)"
   ]
  },
  {
   "cell_type": "code",
   "execution_count": 79,
   "id": "9a42bf32",
   "metadata": {},
   "outputs": [],
   "source": [
    "# bestBoostModel?"
   ]
  },
  {
   "cell_type": "markdown",
   "id": "a04d2a40",
   "metadata": {},
   "source": [
    "---"
   ]
  },
  {
   "cell_type": "markdown",
   "id": "ed703285",
   "metadata": {},
   "source": [
    "# 5. Explanation of model selection and performance\n",
    "#### Allowed to try multiple models for the same"
   ]
  },
  {
   "cell_type": "code",
   "execution_count": 80,
   "id": "72cd9370",
   "metadata": {},
   "outputs": [
    {
     "data": {
      "text/plain": [
       "{'Naïve Bayes': 78.162,\n",
       " 'Logistic Regression': 94.423,\n",
       " 'Decision Tree': 84.446,\n",
       " 'Support Vector Classifier': 93.716}"
      ]
     },
     "execution_count": 80,
     "metadata": {},
     "output_type": "execute_result"
    }
   ],
   "source": [
    "test_percent"
   ]
  },
  {
   "cell_type": "code",
   "execution_count": 81,
   "id": "183124c3",
   "metadata": {},
   "outputs": [
    {
     "data": {
      "text/plain": [
       "{'Random Forest': 91.123,\n",
       " 'XG Boost': 92.066,\n",
       " 'Gradient Boosting': 89.081,\n",
       " 'AdaBoost': 93.48,\n",
       " 'Bagging': 94.737}"
      ]
     },
     "execution_count": 81,
     "metadata": {},
     "output_type": "execute_result"
    }
   ],
   "source": [
    "test_percent2"
   ]
  },
  {
   "cell_type": "code",
   "execution_count": 82,
   "id": "6af4f0fd",
   "metadata": {},
   "outputs": [
    {
     "data": {
      "text/plain": [
       "{'Naïve Bayes': 81.619,\n",
       " 'Logistic Regression': 95.0,\n",
       " 'Decision Tree': 80.857,\n",
       " 'Support Vector Classifier': 95.0,\n",
       " 'Random Forest': 89.381,\n",
       " 'XG Boost': 91.476,\n",
       " 'Gradient Boosting': 91.429,\n",
       " 'AdaBoost': 97.143,\n",
       " 'Bagging': 95.0}"
      ]
     },
     "execution_count": 82,
     "metadata": {},
     "output_type": "execute_result"
    }
   ],
   "source": [
    "k_fold_percent"
   ]
  },
  {
   "cell_type": "code",
   "execution_count": 83,
   "id": "33fded5e",
   "metadata": {},
   "outputs": [],
   "source": [
    "TrainDF = copyDF(train_percent, train_percent2, 'Training Data Accuracy (%)')\n",
    "TestDF = copyDF(test_percent, test_percent2, 'Test Data Accuracy (%)')\n",
    "\n",
    "DF = pd.merge(TrainDF, TestDF, on = \"Model\")\n",
    "\n",
    "for i in DF.Model:\n",
    "    if i in list(train_percent.keys()):\n",
    "        ModelType.append('Base')\n",
    "    else: ModelType.append('Boost')\n",
    "\n",
    "DF['K-Fold CV (%)'] = list(k_fold_percent.values())\n",
    "DF['Model Type'] = ModelType\n",
    "ModelType = list()"
   ]
  },
  {
   "cell_type": "code",
   "execution_count": 84,
   "id": "2a336e4b",
   "metadata": {},
   "outputs": [
    {
     "data": {
      "text/html": [
       "<style type=\"text/css\">\n",
       "#T_91219_row0_col1, #T_91219_row0_col2, #T_91219_row2_col3 {\n",
       "  background-color: #f1f1f1;\n",
       "  color: #000000;\n",
       "  background-color: Red;\n",
       "}\n",
       "#T_91219_row0_col3 {\n",
       "  background-color: #e6e6e6;\n",
       "  color: #000000;\n",
       "}\n",
       "#T_91219_row0_col4, #T_91219_row1_col4, #T_91219_row2_col4, #T_91219_row3_col4, #T_91219_row7_col0 {\n",
       "  background-color: Red;\n",
       "}\n",
       "#T_91219_row1_col1, #T_91219_row4_col1 {\n",
       "  background-color: #232323;\n",
       "  color: #f1f1f1;\n",
       "}\n",
       "#T_91219_row1_col2 {\n",
       "  background-color: #040404;\n",
       "  color: #f1f1f1;\n",
       "}\n",
       "#T_91219_row1_col3, #T_91219_row3_col3, #T_91219_row8_col3 {\n",
       "  background-color: #1f1f1f;\n",
       "  color: #f1f1f1;\n",
       "}\n",
       "#T_91219_row2_col1, #T_91219_row5_col1, #T_91219_row6_col1, #T_91219_row7_col1, #T_91219_row7_col3, #T_91219_row8_col2 {\n",
       "  background-color: #000000;\n",
       "  color: #f1f1f1;\n",
       "  background-color: Blue;\n",
       "}\n",
       "#T_91219_row2_col2 {\n",
       "  background-color: #959595;\n",
       "  color: #f1f1f1;\n",
       "}\n",
       "#T_91219_row3_col1 {\n",
       "  background-color: #111111;\n",
       "  color: #f1f1f1;\n",
       "}\n",
       "#T_91219_row3_col2 {\n",
       "  background-color: #0e0e0e;\n",
       "  color: #f1f1f1;\n",
       "}\n",
       "#T_91219_row4_col2 {\n",
       "  background-color: #343434;\n",
       "  color: #f1f1f1;\n",
       "}\n",
       "#T_91219_row4_col3 {\n",
       "  background-color: #737373;\n",
       "  color: #f1f1f1;\n",
       "}\n",
       "#T_91219_row4_col4, #T_91219_row5_col0, #T_91219_row5_col4, #T_91219_row6_col4, #T_91219_row7_col4, #T_91219_row8_col4 {\n",
       "  background-color: Blue;\n",
       "}\n",
       "#T_91219_row5_col2 {\n",
       "  background-color: #272727;\n",
       "  color: #f1f1f1;\n",
       "}\n",
       "#T_91219_row5_col3, #T_91219_row6_col3 {\n",
       "  background-color: #545454;\n",
       "  color: #f1f1f1;\n",
       "}\n",
       "#T_91219_row6_col2 {\n",
       "  background-color: #525252;\n",
       "  color: #f1f1f1;\n",
       "}\n",
       "#T_91219_row7_col2 {\n",
       "  background-color: #121212;\n",
       "  color: #f1f1f1;\n",
       "}\n",
       "#T_91219_row8_col1 {\n",
       "  background-color: #353535;\n",
       "  color: #f1f1f1;\n",
       "}\n",
       "</style>\n",
       "<table id=\"T_91219_\">\n",
       "  <thead>\n",
       "    <tr>\n",
       "      <th class=\"blank level0\" >&nbsp;</th>\n",
       "      <th class=\"col_heading level0 col0\" >Model</th>\n",
       "      <th class=\"col_heading level0 col1\" >Training Data Accuracy (%)</th>\n",
       "      <th class=\"col_heading level0 col2\" >Test Data Accuracy (%)</th>\n",
       "      <th class=\"col_heading level0 col3\" >K-Fold CV (%)</th>\n",
       "      <th class=\"col_heading level0 col4\" >Model Type</th>\n",
       "    </tr>\n",
       "  </thead>\n",
       "  <tbody>\n",
       "    <tr>\n",
       "      <th id=\"T_91219_level0_row0\" class=\"row_heading level0 row0\" >0</th>\n",
       "      <td id=\"T_91219_row0_col0\" class=\"data row0 col0\" >Naïve Bayes</td>\n",
       "      <td id=\"T_91219_row0_col1\" class=\"data row0 col1\" >80.85</td>\n",
       "      <td id=\"T_91219_row0_col2\" class=\"data row0 col2\" >78.16</td>\n",
       "      <td id=\"T_91219_row0_col3\" class=\"data row0 col3\" >81.62</td>\n",
       "      <td id=\"T_91219_row0_col4\" class=\"data row0 col4\" >Base</td>\n",
       "    </tr>\n",
       "    <tr>\n",
       "      <th id=\"T_91219_level0_row1\" class=\"row_heading level0 row1\" >1</th>\n",
       "      <td id=\"T_91219_row1_col0\" class=\"data row1 col0\" >Logistic Regression</td>\n",
       "      <td id=\"T_91219_row1_col1\" class=\"data row1 col1\" >97.16</td>\n",
       "      <td id=\"T_91219_row1_col2\" class=\"data row1 col2\" >94.42</td>\n",
       "      <td id=\"T_91219_row1_col3\" class=\"data row1 col3\" >95.00</td>\n",
       "      <td id=\"T_91219_row1_col4\" class=\"data row1 col4\" >Base</td>\n",
       "    </tr>\n",
       "    <tr>\n",
       "      <th id=\"T_91219_level0_row2\" class=\"row_heading level0 row2\" >2</th>\n",
       "      <td id=\"T_91219_row2_col0\" class=\"data row2 col0\" >Decision Tree</td>\n",
       "      <td id=\"T_91219_row2_col1\" class=\"data row2 col1\" >100.00</td>\n",
       "      <td id=\"T_91219_row2_col2\" class=\"data row2 col2\" >84.45</td>\n",
       "      <td id=\"T_91219_row2_col3\" class=\"data row2 col3\" >80.86</td>\n",
       "      <td id=\"T_91219_row2_col4\" class=\"data row2 col4\" >Base</td>\n",
       "    </tr>\n",
       "    <tr>\n",
       "      <th id=\"T_91219_level0_row3\" class=\"row_heading level0 row3\" >3</th>\n",
       "      <td id=\"T_91219_row3_col0\" class=\"data row3 col0\" >Support Vector Classifier</td>\n",
       "      <td id=\"T_91219_row3_col1\" class=\"data row3 col1\" >98.58</td>\n",
       "      <td id=\"T_91219_row3_col2\" class=\"data row3 col2\" >93.72</td>\n",
       "      <td id=\"T_91219_row3_col3\" class=\"data row3 col3\" >95.00</td>\n",
       "      <td id=\"T_91219_row3_col4\" class=\"data row3 col4\" >Base</td>\n",
       "    </tr>\n",
       "    <tr>\n",
       "      <th id=\"T_91219_level0_row4\" class=\"row_heading level0 row4\" >4</th>\n",
       "      <td id=\"T_91219_row4_col0\" class=\"data row4 col0\" >Random Forest</td>\n",
       "      <td id=\"T_91219_row4_col1\" class=\"data row4 col1\" >97.16</td>\n",
       "      <td id=\"T_91219_row4_col2\" class=\"data row4 col2\" >91.12</td>\n",
       "      <td id=\"T_91219_row4_col3\" class=\"data row4 col3\" >89.38</td>\n",
       "      <td id=\"T_91219_row4_col4\" class=\"data row4 col4\" >Boost</td>\n",
       "    </tr>\n",
       "    <tr>\n",
       "      <th id=\"T_91219_level0_row5\" class=\"row_heading level0 row5\" >5</th>\n",
       "      <td id=\"T_91219_row5_col0\" class=\"data row5 col0\" >XG Boost</td>\n",
       "      <td id=\"T_91219_row5_col1\" class=\"data row5 col1\" >100.00</td>\n",
       "      <td id=\"T_91219_row5_col2\" class=\"data row5 col2\" >92.07</td>\n",
       "      <td id=\"T_91219_row5_col3\" class=\"data row5 col3\" >91.48</td>\n",
       "      <td id=\"T_91219_row5_col4\" class=\"data row5 col4\" >Boost</td>\n",
       "    </tr>\n",
       "    <tr>\n",
       "      <th id=\"T_91219_level0_row6\" class=\"row_heading level0 row6\" >6</th>\n",
       "      <td id=\"T_91219_row6_col0\" class=\"data row6 col0\" >Gradient Boosting</td>\n",
       "      <td id=\"T_91219_row6_col1\" class=\"data row6 col1\" >100.00</td>\n",
       "      <td id=\"T_91219_row6_col2\" class=\"data row6 col2\" >89.08</td>\n",
       "      <td id=\"T_91219_row6_col3\" class=\"data row6 col3\" >91.43</td>\n",
       "      <td id=\"T_91219_row6_col4\" class=\"data row6 col4\" >Boost</td>\n",
       "    </tr>\n",
       "    <tr>\n",
       "      <th id=\"T_91219_level0_row7\" class=\"row_heading level0 row7\" >7</th>\n",
       "      <td id=\"T_91219_row7_col0\" class=\"data row7 col0\" >AdaBoost</td>\n",
       "      <td id=\"T_91219_row7_col1\" class=\"data row7 col1\" >100.00</td>\n",
       "      <td id=\"T_91219_row7_col2\" class=\"data row7 col2\" >93.48</td>\n",
       "      <td id=\"T_91219_row7_col3\" class=\"data row7 col3\" >97.14</td>\n",
       "      <td id=\"T_91219_row7_col4\" class=\"data row7 col4\" >Boost</td>\n",
       "    </tr>\n",
       "    <tr>\n",
       "      <th id=\"T_91219_level0_row8\" class=\"row_heading level0 row8\" >8</th>\n",
       "      <td id=\"T_91219_row8_col0\" class=\"data row8 col0\" >Bagging</td>\n",
       "      <td id=\"T_91219_row8_col1\" class=\"data row8 col1\" >95.75</td>\n",
       "      <td id=\"T_91219_row8_col2\" class=\"data row8 col2\" >94.74</td>\n",
       "      <td id=\"T_91219_row8_col3\" class=\"data row8 col3\" >95.00</td>\n",
       "      <td id=\"T_91219_row8_col4\" class=\"data row8 col4\" >Boost</td>\n",
       "    </tr>\n",
       "  </tbody>\n",
       "</table>\n"
      ],
      "text/plain": [
       "<pandas.io.formats.style.Styler at 0x2734de1f608>"
      ]
     },
     "execution_count": 84,
     "metadata": {},
     "output_type": "execute_result"
    }
   ],
   "source": [
    "import seaborn as sns\n",
    "\n",
    "cm = sns.light_palette(\"Black\", as_cmap = True)\n",
    "\n",
    "DF.style.background_gradient(cmap = cm).set_precision(2).highlight_min(axis = 0, color = 'Red').highlight_max(axis = 0, color='Blue')"
   ]
  },
  {
   "cell_type": "code",
   "execution_count": 85,
   "id": "baef9940",
   "metadata": {},
   "outputs": [
    {
     "data": {
      "text/plain": [
       "<matplotlib.legend.Legend at 0x27338dc9308>"
      ]
     },
     "execution_count": 85,
     "metadata": {},
     "output_type": "execute_result"
    },
    {
     "data": {
      "image/png": "[encoded data removed]",
      "text/plain": [
       "<Figure size 720x360 with 1 Axes>"
      ]
     },
     "metadata": {
      "needs_background": "light"
     },
     "output_type": "display_data"
    }
   ],
   "source": [
    "plt.rcParams['figure.figsize'] = [10, 5]\n",
    "\n",
    "xcoords = [min(DF['Training Data Accuracy (%)']), max(DF['Training Data Accuracy (%)'])]\n",
    "colors = ['r','g']\n",
    "\n",
    "for xc, c in zip(xcoords, colors):\n",
    "    plt.axvline(x = xc, label = 'line at x = {}'.format(xc), c = c)\n",
    "\n",
    "font1 = {'family' : 'serif', 'color' : 'red', 'size' : 20}\n",
    "font2 = {'family' : 'serif', 'color' : 'blue', 'size' : 20}\n",
    "\n",
    "plt.barh(DF.Model, DF['Training Data Accuracy (%)'])\n",
    "plt.xlabel('Train Data Accuracy (%)', fontdict = font1)\n",
    "plt.ylabel('Model', fontdict = font2)\n",
    "plt.title('Performance across models')\n",
    "plt.legend()"
   ]
  },
  {
   "cell_type": "code",
   "execution_count": 86,
   "id": "8affba2b",
   "metadata": {},
   "outputs": [
    {
     "data": {
      "text/plain": [
       "<matplotlib.legend.Legend at 0x2734dc8e388>"
      ]
     },
     "execution_count": 86,
     "metadata": {},
     "output_type": "execute_result"
    },
    {
     "data": {
      "image/png": "[encoded data removed]",
      "text/plain": [
       "<Figure size 720x360 with 1 Axes>"
      ]
     },
     "metadata": {
      "needs_background": "light"
     },
     "output_type": "display_data"
    }
   ],
   "source": [
    "plt.rcParams['figure.figsize'] = [10, 5]\n",
    "\n",
    "xcoords = [min(DF['Test Data Accuracy (%)']), max(DF['Test Data Accuracy (%)'])]\n",
    "colors = ['r','g']\n",
    "\n",
    "for xc, c in zip(xcoords, colors):\n",
    "    plt.axvline(x = xc, label = 'line at x = {}'.format(xc), c = c)\n",
    "\n",
    "font1 = {'family' : 'serif', 'color' : 'red', 'size' : 20}\n",
    "font2 = {'family' : 'serif', 'color' : 'blue', 'size' : 20}\n",
    "\n",
    "plt.barh(DF.Model, DF['Test Data Accuracy (%)'])\n",
    "plt.xlabel('Test Data Accuracy (%)', fontdict = font1)\n",
    "plt.ylabel('Model', fontdict = font2)\n",
    "plt.title('Performance across models')\n",
    "plt.legend()"
   ]
  },
  {
   "cell_type": "code",
   "execution_count": 87,
   "id": "9ed99c2d",
   "metadata": {},
   "outputs": [
    {
     "data": {
      "text/plain": [
       "<matplotlib.legend.Legend at 0x27338ef7088>"
      ]
     },
     "execution_count": 87,
     "metadata": {},
     "output_type": "execute_result"
    },
    {
     "data": {
      "image/png": "[encoded data removed]",
      "text/plain": [
       "<Figure size 720x360 with 1 Axes>"
      ]
     },
     "metadata": {
      "needs_background": "light"
     },
     "output_type": "display_data"
    }
   ],
   "source": [
    "plt.rcParams['figure.figsize'] = [10, 5]\n",
    "\n",
    "xcoords = [min(DF['K-Fold CV (%)']), max(DF['K-Fold CV (%)'])]\n",
    "colors = ['r','g']\n",
    "\n",
    "for xc, c in zip(xcoords, colors):\n",
    "    plt.axvline(x = xc, label = 'line at x = {}'.format(xc), c = c)\n",
    "\n",
    "font1 = {'family' : 'serif', 'color' : 'red', 'size' : 20}\n",
    "font2 = {'family' : 'serif', 'color' : 'blue', 'size' : 20}\n",
    "\n",
    "plt.barh(DF.Model, DF['K-Fold CV (%)'])\n",
    "plt.xlabel('K-Fold CV (%)', fontdict = font1)\n",
    "plt.ylabel('Model', fontdict = font2)\n",
    "plt.title('Performance across models')\n",
    "plt.legend()"
   ]
  },
  {
   "cell_type": "markdown",
   "id": "8460ebac",
   "metadata": {},
   "source": [
    "---"
   ]
  },
  {
   "cell_type": "markdown",
   "id": "75264b25",
   "metadata": {},
   "source": [
    "# As a result of above 3 graphs we can point out following observations"
   ]
  },
  {
   "attachments": {},
   "cell_type": "markdown",
   "id": "2b3dc073",
   "metadata": {},
   "source": [
    "### Maximum performance - \n",
    "#### a. Training Data Accuracy - 100.00% - achieved by 2 models (Decision Tree, XGBoost, Gradient Boosting and AdaBoost)\n",
    "#### b. Test Data Accuracy - 94.74% - achived by Bagging boosting model\n",
    "#### b. K-Fold CV on Test Data: Accuracy - 97.14% - achieved by AdaBoost Bosst model"
   ]
  },
  {
   "cell_type": "markdown",
   "id": "af0eb045",
   "metadata": {},
   "source": [
    "***"
   ]
  }
 ],
 "metadata": {
  "kernelspec": {
   "display_name": "Python 3",
   "language": "python",
   "name": "python3"
  },
  "language_info": {
   "codemirror_mode": {
    "name": "ipython",
    "version": 3
   },
   "file_extension": ".py",
   "mimetype": "text/x-python",
   "name": "python",
   "nbconvert_exporter": "python",
   "pygments_lexer": "ipython3",
   "version": "3.7.9 (tags/v3.7.9:13c94747c7, Aug 17 2020, 18:58:18) [MSC v.1900 64 bit (AMD64)]"
  },
  "vscode": {
   "interpreter": {
    "hash": "564c99579b92e7e7c1e2f50adfd31a20c637bc406e24f47abab66994fe2b1213"
   }
  }
 },
 "nbformat": 4,
 "nbformat_minor": 5
}
